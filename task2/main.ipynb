{
 "cells": [
  {
   "cell_type": "code",
   "execution_count": 63,
   "metadata": {},
   "outputs": [
    {
     "name": "stdout",
     "output_type": "stream",
     "text": [
      "gcc main.c -std=c11 -O0 -o a.out\n",
      "type,N,clocks\n"
     ]
    }
   ],
   "source": [
    "!make\n",
    "!echo 'type,N,clocks' > measures.csv\n",
    "!cat measures.csv"
   ]
  },
  {
   "cell_type": "code",
   "execution_count": 64,
   "metadata": {},
   "outputs": [
    {
     "name": "stdout",
     "output_type": "stream",
     "text": [
      "Overwriting tas.sh\n"
     ]
    }
   ],
   "source": [
    "%%writefile tas.sh\n",
    "\n",
    "echo -en \"\\rtas $1...\"\n",
    "for i in $(seq 7)\n",
    "{\n",
    "    echo \"tas,$1,$(./a.out $1)\" >> measures.csv\n",
    "}"
   ]
  },
  {
   "cell_type": "code",
   "execution_count": 65,
   "metadata": {},
   "outputs": [
    {
     "name": "stdout",
     "output_type": "stream",
     "text": [
      "Overwriting ticket.sh\n"
     ]
    }
   ],
   "source": [
    "%%writefile ticket.sh\n",
    "\n",
    "echo -en \"\\rticket $1...\"\n",
    "for i in $(seq 7)\n",
    "{\n",
    "    echo \"ticket,$1,$(./a.out $1 ticket)\" >> measures.csv\n",
    "}"
   ]
  },
  {
   "cell_type": "code",
   "execution_count": 66,
   "metadata": {},
   "outputs": [],
   "source": [
    "!chmod +x tas.sh\n",
    "!chmod +x ticket.sh"
   ]
  },
  {
   "cell_type": "code",
   "execution_count": 67,
   "metadata": {},
   "outputs": [
    {
     "name": "stdout",
     "output_type": "stream",
     "text": [
      "tas 60..."
     ]
    }
   ],
   "source": [
    "!./tas.sh 1\n",
    "!./tas.sh 2\n",
    "!./tas.sh 3\n",
    "!./tas.sh 4\n",
    "!./tas.sh 5\n",
    "!./tas.sh 6\n",
    "!./tas.sh 8\n",
    "!./tas.sh 10\n",
    "!./tas.sh 12\n",
    "!./tas.sh 14\n",
    "!./tas.sh 16\n",
    "!./tas.sh 18\n",
    "!./tas.sh 20\n",
    "!./tas.sh 22\n",
    "!./tas.sh 24\n",
    "!./tas.sh 26\n",
    "!./tas.sh 30\n",
    "!./tas.sh 34\n",
    "!./tas.sh 40\n",
    "!./tas.sh 45\n",
    "!./tas.sh 50\n",
    "!./tas.sh 55\n",
    "!./tas.sh 60"
   ]
  },
  {
   "cell_type": "code",
   "execution_count": 68,
   "metadata": {},
   "outputs": [
    {
     "name": "stdout",
     "output_type": "stream",
     "text": [
      "ticket 60..."
     ]
    }
   ],
   "source": [
    "!./ticket.sh 1\n",
    "!./ticket.sh 2\n",
    "!./ticket.sh 3\n",
    "!./ticket.sh 4\n",
    "!./ticket.sh 5\n",
    "!./ticket.sh 6\n",
    "!./ticket.sh 8\n",
    "!./ticket.sh 10\n",
    "!./ticket.sh 12\n",
    "!./ticket.sh 14\n",
    "!./ticket.sh 16\n",
    "!./ticket.sh 18\n",
    "!./ticket.sh 20\n",
    "!./ticket.sh 22\n",
    "!./ticket.sh 24\n",
    "!./ticket.sh 26\n",
    "!./ticket.sh 30\n",
    "!./ticket.sh 34\n",
    "!./ticket.sh 40\n",
    "!./ticket.sh 45\n",
    "!./ticket.sh 50\n",
    "!./ticket.sh 55\n",
    "!./ticket.sh 60"
   ]
  },
  {
   "cell_type": "markdown",
   "metadata": {},
   "source": [
    "# Рисуем графики"
   ]
  },
  {
   "cell_type": "code",
   "execution_count": 69,
   "metadata": {},
   "outputs": [],
   "source": [
    "import pandas as pd\n",
    "import seaborn as sns\n",
    "import matplotlib.pyplot as plt"
   ]
  },
  {
   "cell_type": "code",
   "execution_count": 70,
   "metadata": {},
   "outputs": [
    {
     "data": {
      "text/html": [
       "<div>\n",
       "<style scoped>\n",
       "    .dataframe tbody tr th:only-of-type {\n",
       "        vertical-align: middle;\n",
       "    }\n",
       "\n",
       "    .dataframe tbody tr th {\n",
       "        vertical-align: top;\n",
       "    }\n",
       "\n",
       "    .dataframe thead th {\n",
       "        text-align: right;\n",
       "    }\n",
       "</style>\n",
       "<table border=\"1\" class=\"dataframe\">\n",
       "  <thead>\n",
       "    <tr style=\"text-align: right;\">\n",
       "      <th></th>\n",
       "      <th>type</th>\n",
       "      <th>N</th>\n",
       "      <th>clocks</th>\n",
       "    </tr>\n",
       "  </thead>\n",
       "  <tbody>\n",
       "    <tr>\n",
       "      <th>85</th>\n",
       "      <td>tas</td>\n",
       "      <td>20</td>\n",
       "      <td>11725806</td>\n",
       "    </tr>\n",
       "    <tr>\n",
       "      <th>10</th>\n",
       "      <td>tas</td>\n",
       "      <td>2</td>\n",
       "      <td>2073121</td>\n",
       "    </tr>\n",
       "    <tr>\n",
       "      <th>151</th>\n",
       "      <td>tas</td>\n",
       "      <td>55</td>\n",
       "      <td>30485547</td>\n",
       "    </tr>\n",
       "    <tr>\n",
       "      <th>96</th>\n",
       "      <td>tas</td>\n",
       "      <td>22</td>\n",
       "      <td>11969900</td>\n",
       "    </tr>\n",
       "    <tr>\n",
       "      <th>164</th>\n",
       "      <td>ticket</td>\n",
       "      <td>1</td>\n",
       "      <td>1634596</td>\n",
       "    </tr>\n",
       "    <tr>\n",
       "      <th>54</th>\n",
       "      <td>tas</td>\n",
       "      <td>10</td>\n",
       "      <td>7108021</td>\n",
       "    </tr>\n",
       "    <tr>\n",
       "      <th>122</th>\n",
       "      <td>tas</td>\n",
       "      <td>34</td>\n",
       "      <td>19722052</td>\n",
       "    </tr>\n",
       "  </tbody>\n",
       "</table>\n",
       "</div>"
      ],
      "text/plain": [
       "       type   N    clocks\n",
       "85      tas  20  11725806\n",
       "10      tas   2   2073121\n",
       "151     tas  55  30485547\n",
       "96      tas  22  11969900\n",
       "164  ticket   1   1634596\n",
       "54      tas  10   7108021\n",
       "122     tas  34  19722052"
      ]
     },
     "execution_count": 70,
     "metadata": {},
     "output_type": "execute_result"
    }
   ],
   "source": [
    "df = pd.read_csv('measures.csv')\n",
    "df.sample(7)"
   ]
  },
  {
   "cell_type": "code",
   "execution_count": 71,
   "metadata": {},
   "outputs": [
    {
     "data": {
      "text/html": [
       "<div>\n",
       "<style scoped>\n",
       "    .dataframe tbody tr th:only-of-type {\n",
       "        vertical-align: middle;\n",
       "    }\n",
       "\n",
       "    .dataframe tbody tr th {\n",
       "        vertical-align: top;\n",
       "    }\n",
       "\n",
       "    .dataframe thead th {\n",
       "        text-align: right;\n",
       "    }\n",
       "</style>\n",
       "<table border=\"1\" class=\"dataframe\">\n",
       "  <thead>\n",
       "    <tr style=\"text-align: right;\">\n",
       "      <th></th>\n",
       "      <th>type</th>\n",
       "      <th>N</th>\n",
       "      <th>clocks</th>\n",
       "    </tr>\n",
       "  </thead>\n",
       "  <tbody>\n",
       "    <tr>\n",
       "      <th>8</th>\n",
       "      <td>tas</td>\n",
       "      <td>12</td>\n",
       "      <td>7.487178e+06</td>\n",
       "    </tr>\n",
       "    <tr>\n",
       "      <th>32</th>\n",
       "      <td>ticket</td>\n",
       "      <td>14</td>\n",
       "      <td>8.636365e+06</td>\n",
       "    </tr>\n",
       "    <tr>\n",
       "      <th>22</th>\n",
       "      <td>tas</td>\n",
       "      <td>60</td>\n",
       "      <td>3.246466e+07</td>\n",
       "    </tr>\n",
       "    <tr>\n",
       "      <th>10</th>\n",
       "      <td>tas</td>\n",
       "      <td>16</td>\n",
       "      <td>9.218083e+06</td>\n",
       "    </tr>\n",
       "    <tr>\n",
       "      <th>2</th>\n",
       "      <td>tas</td>\n",
       "      <td>3</td>\n",
       "      <td>2.371153e+06</td>\n",
       "    </tr>\n",
       "    <tr>\n",
       "      <th>15</th>\n",
       "      <td>tas</td>\n",
       "      <td>26</td>\n",
       "      <td>1.530687e+07</td>\n",
       "    </tr>\n",
       "    <tr>\n",
       "      <th>33</th>\n",
       "      <td>ticket</td>\n",
       "      <td>16</td>\n",
       "      <td>9.877775e+06</td>\n",
       "    </tr>\n",
       "  </tbody>\n",
       "</table>\n",
       "</div>"
      ],
      "text/plain": [
       "      type   N        clocks\n",
       "8      tas  12  7.487178e+06\n",
       "32  ticket  14  8.636365e+06\n",
       "22     tas  60  3.246466e+07\n",
       "10     tas  16  9.218083e+06\n",
       "2      tas   3  2.371153e+06\n",
       "15     tas  26  1.530687e+07\n",
       "33  ticket  16  9.877775e+06"
      ]
     },
     "execution_count": 71,
     "metadata": {},
     "output_type": "execute_result"
    }
   ],
   "source": [
    "df = df.groupby(['type', 'N'])['clocks'].mean().reset_index()\n",
    "df.sample(7)"
   ]
  },
  {
   "cell_type": "code",
   "execution_count": 74,
   "metadata": {},
   "outputs": [
    {
     "data": {
      "image/png": "[encoded data removed]",
      "text/plain": [
       "<Figure size 640x480 with 1 Axes>"
      ]
     },
     "metadata": {},
     "output_type": "display_data"
    }
   ],
   "source": [
    "sns.lineplot(data=df, x='N', y='clocks', hue='type');"
   ]
  },
  {
   "cell_type": "code",
   "execution_count": null,
   "metadata": {},
   "outputs": [],
   "source": []
  }
 ],
 "metadata": {
  "kernelspec": {
   "display_name": "Python 3",
   "language": "python",
   "name": "python3"
  },
  "language_info": {
   "codemirror_mode": {
    "name": "ipython",
    "version": 3
   },
   "file_extension": ".py",
   "mimetype": "text/x-python",
   "name": "python",
   "nbconvert_exporter": "python",
   "pygments_lexer": "ipython3",
   "version": "3.10.9"
  },
  "orig_nbformat": 4,
  "vscode": {
   "interpreter": {
    "hash": "767d51c1340bd893661ea55ea3124f6de3c7a262a8b4abca0554b478b1e2ff90"
   }
  }
 },
 "nbformat": 4,
 "nbformat_minor": 2
}
