{
 "cells": [
  {
   "cell_type": "markdown",
   "metadata": {},
   "source": [
    "# Умножаем матрички"
   ]
  },
  {
   "cell_type": "markdown",
   "metadata": {},
   "source": [
    "Задача №1 для всех, которую нужно сделать до 15 октября — написать блочное умножение матриц\n",
    "\n",
    "---\n",
    "\n",
    "Мне нужно четыре графика:\n",
    "1) время умножения матриц от размера матриц для наивной однопоточной реализации\n",
    "2) время умножения матриц от размера матриц для блочного умножения в 1 поток\n",
    "3) время умножения матриц от количества тредов для не-блочного разделения задач по тредам (например, по строкам / столбцам)\n",
    "4) время умножения матриц от количества тредов для блочной реализации\n",
    "\n",
    "Размер матриц для (3,4) давайте возьмём 20 MB.\n",
    "\n",
    "Графики для (2,4) должны получиться как можно лучше.\n",
    "\n",
    "Если в группе будет желание, можете написать бенчмарки коллективно и устроить небольшое соревнование на одних и тех же тестах.\n",
    "\n",
    "Писать можете на чистом С, GNU диалекте или на C++. Ограничение — не пишите на \"старом\" С++, используйте средства С++11. И не используйте OpenMP, будьте добры сами запускать треды\n",
    "\n",
    "---\n",
    "\n",
    "Вопросы к 1 задаче:\n",
    "- что такое тред\n",
    "- зачем нужен кэш\n",
    "- как устроен кэш, cache line, invalidation\n",
    "- false sharing\n",
    "- почему блочный алгоритм быстрее (= причём тут кэш)\n",
    "- смысл методов c / c++ в программе"
   ]
  },
  {
   "cell_type": "markdown",
   "metadata": {},
   "source": [
    "## Почему время замеряется так, как замеряется"
   ]
  },
  {
   "cell_type": "markdown",
   "metadata": {},
   "source": [
    "Вопрос 5 к задаче подразумевает, что блочный алгоритм должен быть быстрее)))\n",
    "\n",
    "Поэтому давайте максимально читерить:\n",
    "* Не учитывать в замерах время, потраченное на работу с памятью (выделение / очистка)\n",
    "* Не учитывать время, потраченное на создание потоков (будем запускать через кондвар)\n",
    "* Не учитывать время, потраченное на удаление потоков из памяти"
   ]
  },
  {
   "cell_type": "markdown",
   "metadata": {},
   "source": [
    "А если не читерить?)\n",
    "* Просто хранение второй матрицы в транспонированном виде уже дает огромный прирост к скорости.\n",
    "* Работа с памятью и потоками - сверхтрудоёмкие операции и они сводят на нет все плюшки"
   ]
  },
  {
   "cell_type": "markdown",
   "metadata": {},
   "source": [
    "(ну и в задании просили замерить время умножения, так что считаю что это ок)"
   ]
  },
  {
   "cell_type": "markdown",
   "metadata": {},
   "source": [
    "---"
   ]
  },
  {
   "cell_type": "markdown",
   "metadata": {},
   "source": [
    "# Делаем замеры"
   ]
  },
  {
   "cell_type": "markdown",
   "metadata": {},
   "source": [
    "## Prelude"
   ]
  },
  {
   "cell_type": "markdown",
   "metadata": {},
   "source": [
    "Кратенько о том, как это работает\n",
    "\n",
    "1. Есть програмка на Си\n",
    "    * Програмка умеет генерировать случайные матрички и умножать их\n",
    "    * Програмка замеряет ТОЛЬКО время потраченное на само умножение (опуская выделение памяти и прочее)\n",
    "    * После умножения, програмка пишет на стандартный поток вывода время (в попугаях)\n",
    "    * Способ умножения определяется на этапе компиляции (путем линковки с одним из модулей)\n",
    "2. Есть runner.sh\n",
    "    * Runner запускает програмку на Си с одинаковыми параметрами k раз\n",
    "    * Время работы програмки зависит от:\n",
    "        - Загруженности оперативной памяти\n",
    "        - Загруженности процессора\n",
    "        - Чиселок в матрицах\n",
    "        - Фазы луны\n",
    "        - Меркурия в ретрограде\n",
    "    * Чтоб это победить, буду проводить k измерений и брать моду\n",
    "    * Результаты всех k измерений дописывает в measures.csv"
   ]
  },
  {
   "cell_type": "markdown",
   "metadata": {},
   "source": [
    "Готовим runner"
   ]
  },
  {
   "cell_type": "code",
   "execution_count": 1,
   "metadata": {},
   "outputs": [
    {
     "name": "stdout",
     "output_type": "stream",
     "text": [
      "Overwriting runner.sh\n"
     ]
    }
   ],
   "source": [
    "%%writefile runner.sh\n",
    "#!/bin/bash\n",
    "\n",
    "N=$1\n",
    "M=$2\n",
    "K=$3\n",
    "\n",
    "nthreads=$4\n",
    "\n",
    "block_nrows=$5\n",
    "block_ncols=$6\n",
    "\n",
    "run_n_times=$7\n",
    "\n",
    "calculator=$8\n",
    "\n",
    "# echo '' > measures.csv\n",
    "\n",
    "for i in $(seq $run_n_times)\n",
    "{\n",
    "    echo -en \"\\r$N: $i/$run_n_times starting...\"\n",
    "    echo -e \"$calculator,$N-$M-$K,$block_nrows-$block_ncols,$nthreads,$(./a.out $N $M $K $nthreads $block_nrows $block_ncols)\" >> measures.csv\n",
    "}\n",
    "echo ''"
   ]
  },
  {
   "cell_type": "code",
   "execution_count": 2,
   "metadata": {},
   "outputs": [
    {
     "name": "stdout",
     "output_type": "stream",
     "text": [
      "Makefile  main.c.backup  measures.csv.backup  vgcore.441114\n",
      "a.out\t  main.ipynb\t runner.sh\t      vgcore.441182\n",
      "main.c\t  measures.csv\t src\n"
     ]
    }
   ],
   "source": [
    "!chmod +x runner.sh\n",
    "!ls"
   ]
  },
  {
   "cell_type": "code",
   "execution_count": 3,
   "metadata": {},
   "outputs": [],
   "source": [
    "# Готовим measures.csv\n",
    "!echo 'calculator,transposed,N_M_K,bnr_bnc,nthreads,clocks' > measures.csv"
   ]
  },
  {
   "cell_type": "markdown",
   "metadata": {},
   "source": [
    "Максимальный размер матрицы будем брать:\n",
    "\n",
    "$2048 * 5120 * sizeof(uint16\\_t) = 1024 * 1024 * 5 * 2 * 2 = 20M$"
   ]
  },
  {
   "cell_type": "markdown",
   "metadata": {},
   "source": [
    "## Native multiplication"
   ]
  },
  {
   "cell_type": "code",
   "execution_count": 4,
   "metadata": {},
   "outputs": [
    {
     "name": "stdout",
     "output_type": "stream",
     "text": [
      "gcc -std=gnu11 -O0  -c main.c\n",
      "gcc -std=gnu11 -O0  -c src/native.c -o mul.o\n",
      "gcc -std=gnu11 -O0  main.o mul.o -o a.out && rm -rf *.o\n",
      "8: 5/5 starting...\n",
      "16: 5/5 starting...\n",
      "32: 5/5 starting...\n",
      "64: 5/5 starting...\n",
      "128: 5/5 starting...\n",
      "256: 5/5 starting...\n",
      "512: 5/5 starting...\n",
      "1024: 5/5 starting...\n",
      "native,no,1024-1024-1024,0-0,0,12953543\n",
      "native,no,1024-1024-1024,0-0,0,13507139\n",
      "native,no,1024-1024-1024,0-0,0,13470958\n",
      "native,no,1024-1024-1024,0-0,0,12517843\n",
      "native,no,1024-1024-1024,0-0,0,14337590\n"
     ]
    }
   ],
   "source": [
    "!make native\n",
    "\n",
    "# N, M, K, nthreads, block_nrows, block_ncols, run_n_times, calculator\n",
    "!./runner.sh 8 8 8 0 0 0 5 'native,no'\n",
    "!./runner.sh 16 16 16 0 0 0 5 'native,no'\n",
    "!./runner.sh 32 32 32 0 0 0 5 'native,no'\n",
    "!./runner.sh 64 64 64 0 0 0 5 'native,no'\n",
    "!./runner.sh 128 128 128 0 0 0 5 'native,no'\n",
    "!./runner.sh 256 256 256 0 0 0 5 'native,no'\n",
    "!./runner.sh 512 512 512 0 0 0 5 'native,no'\n",
    "!./runner.sh 1024 1024 1024 0 0 0 5 'native,no'\n",
    "# !./runner.sh 2048 5120 2048 0 0 0 5 'native,no' # -- too slow\n",
    "\n",
    "!tail -n 5 measures.csv"
   ]
  },
  {
   "cell_type": "code",
   "execution_count": 5,
   "metadata": {},
   "outputs": [
    {
     "name": "stdout",
     "output_type": "stream",
     "text": [
      "gcc -std=gnu11 -O0 -DTRANSPOSED -c main.c\n",
      "gcc -std=gnu11 -O0 -DTRANSPOSED -c src/native.c -o mul.o\n",
      "gcc -std=gnu11 -O0 -DTRANSPOSED main.o mul.o -o a.out && rm -rf *.o\n",
      "8: 5/5 starting...\n",
      "16: 5/5 starting...\n",
      "32: 5/5 starting...\n",
      "64: 5/5 starting...\n",
      "128: 5/5 starting...\n",
      "256: 5/5 starting...\n",
      "512: 5/5 starting...\n",
      "1024: 5/5 starting...\n",
      "native,yes,1024-1024-1024,0-0,0,4882325\n",
      "native,yes,1024-1024-1024,0-0,0,5070888\n",
      "native,yes,1024-1024-1024,0-0,0,4823981\n",
      "native,yes,1024-1024-1024,0-0,0,4713579\n",
      "native,yes,1024-1024-1024,0-0,0,4742100\n"
     ]
    }
   ],
   "source": [
    "!make APPEND_FLAGS='-DTRANSPOSED' native\n",
    "\n",
    "# N, M, K, nthreads, block_nrows, block_ncols, run_n_times, calculator\n",
    "!./runner.sh 8 8 8 0 0 0 5 'native,yes'\n",
    "!./runner.sh 16 16 16 0 0 0 5 'native,yes'\n",
    "!./runner.sh 32 32 32 0 0 0 5 'native,yes'\n",
    "!./runner.sh 64 64 64 0 0 0 5 'native,yes'\n",
    "!./runner.sh 128 128 128 0 0 0 5 'native,yes'\n",
    "!./runner.sh 256 256 256 0 0 0 5 'native,yes'\n",
    "!./runner.sh 512 512 512 0 0 0 5 'native,yes'\n",
    "!./runner.sh 1024 1024 1024 0 0 0 5 'native,yes'\n",
    "# !./runner.sh 2048 5120 2048 0 0 0 5 'native,yes' # -- too slow\n",
    "\n",
    "!tail -n 5 measures.csv"
   ]
  },
  {
   "cell_type": "markdown",
   "metadata": {},
   "source": [
    "## Block multiplication"
   ]
  },
  {
   "cell_type": "code",
   "execution_count": 6,
   "metadata": {},
   "outputs": [
    {
     "name": "stdout",
     "output_type": "stream",
     "text": [
      "gcc -std=gnu11 -O0  -c main.c\n",
      "gcc -std=gnu11 -O0  -c src/block.c -o mul.o\n",
      "gcc -std=gnu11 -O0  main.o mul.o -o a.out && rm -rf *.o\n",
      "8: 5/5 starting...\n",
      "16: 5/5 starting...\n",
      "32: 5/5 starting...\n",
      "64: 5/5 starting...\n",
      "128: 5/5 starting...\n",
      "256: 5/5 starting...\n",
      "512: 5/5 starting...\n",
      "1024: 5/5 starting...\n",
      "block,no,1024-1024-1024,64-64,0,7940231\n",
      "block,no,1024-1024-1024,64-64,0,8042527\n",
      "block,no,1024-1024-1024,64-64,0,8130120\n",
      "block,no,1024-1024-1024,64-64,0,8019771\n",
      "block,no,1024-1024-1024,64-64,0,8106365\n"
     ]
    }
   ],
   "source": [
    "!make block\n",
    "\n",
    "# N, M, K, nthreads, block_nrows, block_ncols, run_n_times, calculator\n",
    "!./runner.sh 8 8 8 0 2 2 5 'block,no'\n",
    "!./runner.sh 16 16 16 0 4 4 5 'block,no'\n",
    "!./runner.sh 32 32 32 0 8 8 5 'block,no'\n",
    "!./runner.sh 64 64 64 0 16 16 5 'block,no'\n",
    "!./runner.sh 128 128 128 0 32 32 5 'block,no'\n",
    "!./runner.sh 256 256 256 0 32 32 5 'block,no'\n",
    "!./runner.sh 512 512 512 0 32 32 5 'block,no'\n",
    "!./runner.sh 1024 1024 1024 0 64 64 5 'block,no'\n",
    "# !./runner.sh 2048 5120 2048 0 0 0 10 'block,no' # -- too slow\n",
    "\n",
    "!tail -n 5 measures.csv"
   ]
  },
  {
   "cell_type": "code",
   "execution_count": 7,
   "metadata": {},
   "outputs": [
    {
     "name": "stdout",
     "output_type": "stream",
     "text": [
      "gcc -std=gnu11 -O0 -DTRANSPOSED -c main.c\n",
      "gcc -std=gnu11 -O0 -DTRANSPOSED -c src/block.c -o mul.o\n",
      "gcc -std=gnu11 -O0 -DTRANSPOSED main.o mul.o -o a.out && rm -rf *.o\n",
      "8: 5/5 starting...\n",
      "16: 5/5 starting...\n",
      "32: 5/5 starting...\n",
      "64: 5/5 starting...\n",
      "128: 5/5 starting...\n",
      "256: 5/5 starting...\n",
      "512: 5/5 starting...\n",
      "1024: 5/5 starting...\n",
      "block, yes,1024-1024-1024,64-64,0,4645266\n",
      "block, yes,1024-1024-1024,64-64,0,4933353\n",
      "block, yes,1024-1024-1024,64-64,0,4955850\n",
      "block, yes,1024-1024-1024,64-64,0,4915380\n",
      "block, yes,1024-1024-1024,64-64,0,4919779\n"
     ]
    }
   ],
   "source": [
    "!make APPEND_FLAGS='-DTRANSPOSED' block\n",
    "\n",
    "# N, M, K, nthreads, block_nrows, block_ncols, run_n_times, calculator\n",
    "!./runner.sh 8 8 8 0 2 2 5 'block, yes'\n",
    "!./runner.sh 16 16 16 0 4 4 5 'block, yes'\n",
    "!./runner.sh 32 32 32 0 8 8 5 'block, yes'\n",
    "!./runner.sh 64 64 64 0 16 16 5 'block, yes'\n",
    "!./runner.sh 128 128 128 0 32 32 5 'block, yes'\n",
    "!./runner.sh 256 256 256 0 32 32 5 'block, yes'\n",
    "!./runner.sh 512 512 512 0 32 32 5 'block, yes'\n",
    "!./runner.sh 1024 1024 1024 0 64 64 5 'block, yes'\n",
    "# !./runner.sh 2048 5120 2048 0 0 0 10 'native, yes' # -- too slow\n",
    "\n",
    "!tail -n 5 measures.csv"
   ]
  },
  {
   "cell_type": "markdown",
   "metadata": {},
   "source": [
    "## Native multithreading multiplication"
   ]
  },
  {
   "cell_type": "code",
   "execution_count": 1,
   "metadata": {},
   "outputs": [
    {
     "name": "stdout",
     "output_type": "stream",
     "text": [
      "gcc -std=gnu11 -O0  -c main.c\n",
      "gcc -std=gnu11 -O0  -c src/native_m.c -o mul.o\n",
      "gcc -std=gnu11 -O0  main.o mul.o -o a.out && rm -rf *.o\n",
      "2048: 5/5 starting...\n",
      "2048: 5/5 starting...\n",
      "2048: 5/5 starting...\n",
      "2048: 5/5 starting...\n",
      "2048: 5/5 starting...\n",
      "2048: 5/5 starting...\n",
      "2048: 5/5 starting...\n",
      "2048: 5/5 starting...\n",
      "2048: 5/5 starting...\n",
      "2048: 5/5 starting...\n",
      "2048: 5/5 starting...\n",
      "native_m,no,2048-5120-2048,0-0,32,1432978304\n",
      "native_m,no,2048-5120-2048,0-0,32,1434466236\n",
      "native_m,no,2048-5120-2048,0-0,32,1422764140\n",
      "native_m,no,2048-5120-2048,0-0,32,1436922607\n",
      "native_m,no,2048-5120-2048,0-0,32,1438590622\n"
     ]
    }
   ],
   "source": [
    "!make native_m\n",
    "\n",
    "# N, M, K, nthreads, block_nrows, block_ncols, run_n_times, calculator\n",
    "!./runner.sh 2048 5120 2048 2 0 0 5 'native_m,no'\n",
    "!./runner.sh 2048 5120 2048 3 0 0 5 'native_m,no'\n",
    "!./runner.sh 2048 5120 2048 4 0 0 5 'native_m,no'\n",
    "!./runner.sh 2048 5120 2048 5 0 0 5 'native_m,no'\n",
    "!./runner.sh 2048 5120 2048 6 0 0 5 'native_m,no'\n",
    "!./runner.sh 2048 5120 2048 8 0 0 5 'native_m,no'\n",
    "!./runner.sh 2048 5120 2048 10 0 0 5 'native_m,no'\n",
    "!./runner.sh 2048 5120 2048 12 0 0 5 'native_m,no'\n",
    "!./runner.sh 2048 5120 2048 14 0 0 5 'native_m,no'\n",
    "!./runner.sh 2048 5120 2048 16 0 0 5 'native_m,no'\n",
    "!./runner.sh 2048 5120 2048 32 0 0 5 'native_m,no'\n",
    "\n",
    "!tail -n 5 measures.csv"
   ]
  },
  {
   "cell_type": "code",
   "execution_count": 2,
   "metadata": {},
   "outputs": [
    {
     "name": "stdout",
     "output_type": "stream",
     "text": [
      "gcc -std=gnu11 -O0 -DTRANSPOSED -c main.c\n",
      "gcc -std=gnu11 -O0 -DTRANSPOSED -c src/native_m.c -o mul.o\n",
      "gcc -std=gnu11 -O0 -DTRANSPOSED main.o mul.o -o a.out && rm -rf *.o\n",
      "2048: 5/5 starting...\n",
      "2048: 5/5 starting...\n",
      "2048: 5/5 starting...\n",
      "2048: 5/5 starting...\n",
      "2048: 5/5 starting...\n",
      "2048: 5/5 starting...\n",
      "2048: 5/5 starting...\n",
      "2048: 5/5 starting...\n",
      "2048: 5/5 starting...\n",
      "2048: 5/5 starting...\n",
      "2048: 5/5 starting...\n",
      "native_m,yes,2048-5120-2048,0-0,32,350916002\n",
      "native_m,yes,2048-5120-2048,0-0,32,350894251\n",
      "native_m,yes,2048-5120-2048,0-0,32,351144666\n",
      "native_m,yes,2048-5120-2048,0-0,32,350146362\n",
      "native_m,yes,2048-5120-2048,0-0,32,351151412\n"
     ]
    }
   ],
   "source": [
    "!make APPEND_FLAGS='-DTRANSPOSED' native_m\n",
    "\n",
    "# N, M, K, nthreads, block_nrows, block_ncols, run_n_times, calculator\n",
    "!./runner.sh 2048 5120 2048 2 0 0 5 'native_m,yes'\n",
    "!./runner.sh 2048 5120 2048 3 0 0 5 'native_m,yes'\n",
    "!./runner.sh 2048 5120 2048 4 0 0 5 'native_m,yes'\n",
    "!./runner.sh 2048 5120 2048 5 0 0 5 'native_m,yes'\n",
    "!./runner.sh 2048 5120 2048 6 0 0 5 'native_m,yes'\n",
    "!./runner.sh 2048 5120 2048 8 0 0 5 'native_m,yes'\n",
    "!./runner.sh 2048 5120 2048 10 0 0 5 'native_m,yes'\n",
    "!./runner.sh 2048 5120 2048 12 0 0 5 'native_m,yes'\n",
    "!./runner.sh 2048 5120 2048 14 0 0 5 'native_m,yes'\n",
    "!./runner.sh 2048 5120 2048 16 0 0 5 'native_m,yes'\n",
    "!./runner.sh 2048 5120 2048 32 0 0 5 'native_m,yes'\n",
    "\n",
    "!tail -n 5 measures.csv"
   ]
  },
  {
   "cell_type": "markdown",
   "metadata": {},
   "source": [
    "## Block multithreading multiplication"
   ]
  },
  {
   "cell_type": "markdown",
   "metadata": {},
   "source": [
    "Давайте (для простоты) при разбиении на N блоков запускать N тредов"
   ]
  },
  {
   "cell_type": "code",
   "execution_count": 3,
   "metadata": {},
   "outputs": [
    {
     "name": "stdout",
     "output_type": "stream",
     "text": [
      "gcc -std=gnu11 -O0 -DTRANSPOSED -c main.c\n",
      "gcc -std=gnu11 -O0 -DTRANSPOSED -c src/block_m.c -o mul.o\n",
      "gcc -std=gnu11 -O0 -DTRANSPOSED main.o mul.o -o a.out && rm -rf *.o\n",
      "2048: 5/5 starting...\n",
      "2048: 5/5 starting...\n",
      "2048: 5/5 starting...\n",
      "2048: 5/5 starting...\n",
      "2048: 5/5 starting...\n",
      "2048: 5/5 starting...\n",
      "2048: 5/5 starting...\n",
      "2048: 5/5 starting...\n",
      "2048: 5/5 starting...\n",
      "2048: 5/5 starting...\n",
      "block_m,yes,2048-5120-2048,64-64,32,347012427\n",
      "block_m,yes,2048-5120-2048,64-64,32,345620821\n",
      "block_m,yes,2048-5120-2048,64-64,32,349118561\n",
      "block_m,yes,2048-5120-2048,64-64,32,347174097\n",
      "block_m,yes,2048-5120-2048,64-64,32,346776020\n"
     ]
    }
   ],
   "source": [
    "!make APPEND_FLAGS='-DTRANSPOSED' block_m\n",
    "\n",
    "# N, M, K, nthreads, block_nrows, block_ncols, run_n_times, calculator\n",
    "!./runner.sh 2048 5120 2048 2 64 64 5 'block_m,yes'\n",
    "!./runner.sh 2048 5120 2048 3 64 64 5 'block_m,yes'\n",
    "!./runner.sh 2048 5120 2048 4 64 64 5 'block_m,yes'\n",
    "!./runner.sh 2048 5120 2048 5 64 64 5 'block_m,yes'\n",
    "!./runner.sh 2048 5120 2048 6 64 64 5 'block_m,yes'\n",
    "!./runner.sh 2048 5120 2048 8 64 64 5 'block_m,yes'\n",
    "!./runner.sh 2048 5120 2048 10 64 64 5 'block_m,yes'\n",
    "!./runner.sh 2048 5120 2048 14 64 64 5 'block_m,yes'\n",
    "!./runner.sh 2048 5120 2048 16 64 64 5 'block_m,yes'\n",
    "!./runner.sh 2048 5120 2048 32 64 64 5 'block_m,yes'\n",
    "\n",
    "!tail -n 5 measures.csv"
   ]
  },
  {
   "cell_type": "code",
   "execution_count": 4,
   "metadata": {},
   "outputs": [
    {
     "name": "stdout",
     "output_type": "stream",
     "text": [
      "2048: 5/5 starting...\n",
      "2048: 5/5 starting...\n",
      "2048: 5/5 starting...\n",
      "block_m_f,yes,2048-5120-2048,256-512,10,370728780\n",
      "block_m_f,yes,2048-5120-2048,256-512,10,441520470\n",
      "block_m_f,yes,2048-5120-2048,256-512,10,424660886\n",
      "block_m_f,yes,2048-5120-2048,256-512,10,441689865\n",
      "block_m_f,yes,2048-5120-2048,256-512,10,451594447\n"
     ]
    }
   ],
   "source": [
    "# Ещё один тест (как я думаю будет быстрее)\n",
    "\n",
    "# N, M, K, nthreads, block_nrows, block_ncols, run_n_times, calculator\n",
    "!./runner.sh 2048 5120 2048 10 64 128 5 'block_m_f,yes'\n",
    "!./runner.sh 2048 5120 2048 10 128 256 5 'block_m_f,yes'\n",
    "!./runner.sh 2048 5120 2048 10 256 512 5 'block_m_f,yes'\n",
    "\n",
    "# Больше потоков -> больше вредной работы\n",
    "# У меня 4 ядра, 8 потоков\n",
    "\n",
    "!tail -n 5 measures.csv"
   ]
  },
  {
   "cell_type": "code",
   "execution_count": 5,
   "metadata": {},
   "outputs": [
    {
     "name": "stdout",
     "output_type": "stream",
     "text": [
      "2048: 5/5 starting...\n",
      "2048: 5/5 starting...\n",
      "2048: 5/5 starting...\n",
      "block_m_f, yes,2048-5120-2048,32-64,10,365247755\n",
      "block_m_f, yes,2048-5120-2048,32-64,10,364722503\n",
      "block_m_f, yes,2048-5120-2048,32-64,10,366293854\n",
      "block_m_f, yes,2048-5120-2048,32-64,10,365527026\n",
      "block_m_f, yes,2048-5120-2048,32-64,10,363471654\n"
     ]
    }
   ],
   "source": [
    "# И последний разик)\n",
    "\n",
    "# N, M, K, nthreads, block_nrows, block_ncols, run_n_times, calculator\n",
    "!./runner.sh 2048 5120 2048 10 8 16 5 'block_m_f, yes'\n",
    "!./runner.sh 2048 5120 2048 10 16 32 5 'block_m_f, yes'\n",
    "!./runner.sh 2048 5120 2048 10 32 64 5 'block_m_f, yes'\n",
    "\n",
    "!tail -n 5 measures.csv"
   ]
  },
  {
   "cell_type": "markdown",
   "metadata": {},
   "source": [
    "# Обрабатываем результаты"
   ]
  },
  {
   "cell_type": "markdown",
   "metadata": {},
   "source": [
    "> (за кадром удаляем пробелы)"
   ]
  },
  {
   "cell_type": "code",
   "execution_count": 23,
   "metadata": {},
   "outputs": [],
   "source": [
    "import pandas as pd\n",
    "import seaborn as sns\n",
    "from matplotlib import pyplot as plt"
   ]
  },
  {
   "cell_type": "code",
   "execution_count": 24,
   "metadata": {},
   "outputs": [
    {
     "data": {
      "text/html": [
       "<div>\n",
       "<style scoped>\n",
       "    .dataframe tbody tr th:only-of-type {\n",
       "        vertical-align: middle;\n",
       "    }\n",
       "\n",
       "    .dataframe tbody tr th {\n",
       "        vertical-align: top;\n",
       "    }\n",
       "\n",
       "    .dataframe thead th {\n",
       "        text-align: right;\n",
       "    }\n",
       "</style>\n",
       "<table border=\"1\" class=\"dataframe\">\n",
       "  <thead>\n",
       "    <tr style=\"text-align: right;\">\n",
       "      <th></th>\n",
       "      <th>calculator</th>\n",
       "      <th>transposed</th>\n",
       "      <th>N_M_K</th>\n",
       "      <th>bnr_bnc</th>\n",
       "      <th>nthreads</th>\n",
       "      <th>clocks</th>\n",
       "    </tr>\n",
       "  </thead>\n",
       "  <tbody>\n",
       "    <tr>\n",
       "      <th>0</th>\n",
       "      <td>native</td>\n",
       "      <td>no</td>\n",
       "      <td>8-8-8</td>\n",
       "      <td>0-0</td>\n",
       "      <td>0</td>\n",
       "      <td>7</td>\n",
       "    </tr>\n",
       "    <tr>\n",
       "      <th>1</th>\n",
       "      <td>native</td>\n",
       "      <td>no</td>\n",
       "      <td>8-8-8</td>\n",
       "      <td>0-0</td>\n",
       "      <td>0</td>\n",
       "      <td>12</td>\n",
       "    </tr>\n",
       "    <tr>\n",
       "      <th>2</th>\n",
       "      <td>native</td>\n",
       "      <td>no</td>\n",
       "      <td>8-8-8</td>\n",
       "      <td>0-0</td>\n",
       "      <td>0</td>\n",
       "      <td>7</td>\n",
       "    </tr>\n",
       "    <tr>\n",
       "      <th>3</th>\n",
       "      <td>native</td>\n",
       "      <td>no</td>\n",
       "      <td>8-8-8</td>\n",
       "      <td>0-0</td>\n",
       "      <td>0</td>\n",
       "      <td>7</td>\n",
       "    </tr>\n",
       "    <tr>\n",
       "      <th>4</th>\n",
       "      <td>native</td>\n",
       "      <td>no</td>\n",
       "      <td>8-8-8</td>\n",
       "      <td>0-0</td>\n",
       "      <td>0</td>\n",
       "      <td>7</td>\n",
       "    </tr>\n",
       "  </tbody>\n",
       "</table>\n",
       "</div>"
      ],
      "text/plain": [
       "  calculator transposed  N_M_K bnr_bnc  nthreads  clocks\n",
       "0     native         no  8-8-8     0-0         0       7\n",
       "1     native         no  8-8-8     0-0         0      12\n",
       "2     native         no  8-8-8     0-0         0       7\n",
       "3     native         no  8-8-8     0-0         0       7\n",
       "4     native         no  8-8-8     0-0         0       7"
      ]
     },
     "execution_count": 24,
     "metadata": {},
     "output_type": "execute_result"
    }
   ],
   "source": [
    "df = pd.read_csv('measures.csv')\n",
    "df.head()"
   ]
  },
  {
   "cell_type": "code",
   "execution_count": 25,
   "metadata": {},
   "outputs": [
    {
     "data": {
      "text/plain": [
       "array(['native', 'block', 'native_m', 'block_m', 'block_m_f'],\n",
       "      dtype=object)"
      ]
     },
     "execution_count": 25,
     "metadata": {},
     "output_type": "execute_result"
    }
   ],
   "source": [
    "df['calculator'].unique()"
   ]
  },
  {
   "cell_type": "markdown",
   "metadata": {},
   "source": [
    "## Время умножения матриц от размера матриц для наивной однопоточной реализации"
   ]
  },
  {
   "cell_type": "code",
   "execution_count": 32,
   "metadata": {},
   "outputs": [
    {
     "data": {
      "text/html": [
       "<div>\n",
       "<style scoped>\n",
       "    .dataframe tbody tr th:only-of-type {\n",
       "        vertical-align: middle;\n",
       "    }\n",
       "\n",
       "    .dataframe tbody tr th {\n",
       "        vertical-align: top;\n",
       "    }\n",
       "\n",
       "    .dataframe thead th {\n",
       "        text-align: right;\n",
       "    }\n",
       "</style>\n",
       "<table border=\"1\" class=\"dataframe\">\n",
       "  <thead>\n",
       "    <tr style=\"text-align: right;\">\n",
       "      <th></th>\n",
       "      <th>calculator</th>\n",
       "      <th>transposed</th>\n",
       "      <th>N_M_K</th>\n",
       "      <th>bnr_bnc</th>\n",
       "      <th>nthreads</th>\n",
       "      <th>clocks</th>\n",
       "    </tr>\n",
       "  </thead>\n",
       "  <tbody>\n",
       "    <tr>\n",
       "      <th>0</th>\n",
       "      <td>native</td>\n",
       "      <td>no</td>\n",
       "      <td>8-8-8</td>\n",
       "      <td>0-0</td>\n",
       "      <td>0</td>\n",
       "      <td>7</td>\n",
       "    </tr>\n",
       "    <tr>\n",
       "      <th>1</th>\n",
       "      <td>native</td>\n",
       "      <td>no</td>\n",
       "      <td>8-8-8</td>\n",
       "      <td>0-0</td>\n",
       "      <td>0</td>\n",
       "      <td>12</td>\n",
       "    </tr>\n",
       "    <tr>\n",
       "      <th>2</th>\n",
       "      <td>native</td>\n",
       "      <td>no</td>\n",
       "      <td>8-8-8</td>\n",
       "      <td>0-0</td>\n",
       "      <td>0</td>\n",
       "      <td>7</td>\n",
       "    </tr>\n",
       "    <tr>\n",
       "      <th>3</th>\n",
       "      <td>native</td>\n",
       "      <td>no</td>\n",
       "      <td>8-8-8</td>\n",
       "      <td>0-0</td>\n",
       "      <td>0</td>\n",
       "      <td>7</td>\n",
       "    </tr>\n",
       "    <tr>\n",
       "      <th>4</th>\n",
       "      <td>native</td>\n",
       "      <td>no</td>\n",
       "      <td>8-8-8</td>\n",
       "      <td>0-0</td>\n",
       "      <td>0</td>\n",
       "      <td>7</td>\n",
       "    </tr>\n",
       "  </tbody>\n",
       "</table>\n",
       "</div>"
      ],
      "text/plain": [
       "  calculator transposed  N_M_K bnr_bnc  nthreads  clocks\n",
       "0     native         no  8-8-8     0-0         0       7\n",
       "1     native         no  8-8-8     0-0         0      12\n",
       "2     native         no  8-8-8     0-0         0       7\n",
       "3     native         no  8-8-8     0-0         0       7\n",
       "4     native         no  8-8-8     0-0         0       7"
      ]
     },
     "execution_count": 32,
     "metadata": {},
     "output_type": "execute_result"
    }
   ],
   "source": [
    "df_native = df.loc[df['calculator'] == 'native'].copy()\n",
    "\n",
    "df_native.head(5)"
   ]
  },
  {
   "cell_type": "code",
   "execution_count": 33,
   "metadata": {},
   "outputs": [
    {
     "data": {
      "text/html": [
       "<div>\n",
       "<style scoped>\n",
       "    .dataframe tbody tr th:only-of-type {\n",
       "        vertical-align: middle;\n",
       "    }\n",
       "\n",
       "    .dataframe tbody tr th {\n",
       "        vertical-align: top;\n",
       "    }\n",
       "\n",
       "    .dataframe thead th {\n",
       "        text-align: right;\n",
       "    }\n",
       "</style>\n",
       "<table border=\"1\" class=\"dataframe\">\n",
       "  <thead>\n",
       "    <tr style=\"text-align: right;\">\n",
       "      <th></th>\n",
       "      <th>calculator</th>\n",
       "      <th>transposed</th>\n",
       "      <th>N_M_K</th>\n",
       "      <th>bnr_bnc</th>\n",
       "      <th>nthreads</th>\n",
       "      <th>clocks</th>\n",
       "      <th>size</th>\n",
       "    </tr>\n",
       "  </thead>\n",
       "  <tbody>\n",
       "    <tr>\n",
       "      <th>0</th>\n",
       "      <td>native</td>\n",
       "      <td>no</td>\n",
       "      <td>8-8-8</td>\n",
       "      <td>0-0</td>\n",
       "      <td>0</td>\n",
       "      <td>7</td>\n",
       "      <td>8</td>\n",
       "    </tr>\n",
       "    <tr>\n",
       "      <th>1</th>\n",
       "      <td>native</td>\n",
       "      <td>no</td>\n",
       "      <td>8-8-8</td>\n",
       "      <td>0-0</td>\n",
       "      <td>0</td>\n",
       "      <td>12</td>\n",
       "      <td>8</td>\n",
       "    </tr>\n",
       "    <tr>\n",
       "      <th>2</th>\n",
       "      <td>native</td>\n",
       "      <td>no</td>\n",
       "      <td>8-8-8</td>\n",
       "      <td>0-0</td>\n",
       "      <td>0</td>\n",
       "      <td>7</td>\n",
       "      <td>8</td>\n",
       "    </tr>\n",
       "    <tr>\n",
       "      <th>3</th>\n",
       "      <td>native</td>\n",
       "      <td>no</td>\n",
       "      <td>8-8-8</td>\n",
       "      <td>0-0</td>\n",
       "      <td>0</td>\n",
       "      <td>7</td>\n",
       "      <td>8</td>\n",
       "    </tr>\n",
       "    <tr>\n",
       "      <th>4</th>\n",
       "      <td>native</td>\n",
       "      <td>no</td>\n",
       "      <td>8-8-8</td>\n",
       "      <td>0-0</td>\n",
       "      <td>0</td>\n",
       "      <td>7</td>\n",
       "      <td>8</td>\n",
       "    </tr>\n",
       "    <tr>\n",
       "      <th>5</th>\n",
       "      <td>native</td>\n",
       "      <td>no</td>\n",
       "      <td>16-16-16</td>\n",
       "      <td>0-0</td>\n",
       "      <td>0</td>\n",
       "      <td>58</td>\n",
       "      <td>16</td>\n",
       "    </tr>\n",
       "    <tr>\n",
       "      <th>6</th>\n",
       "      <td>native</td>\n",
       "      <td>no</td>\n",
       "      <td>16-16-16</td>\n",
       "      <td>0-0</td>\n",
       "      <td>0</td>\n",
       "      <td>57</td>\n",
       "      <td>16</td>\n",
       "    </tr>\n",
       "    <tr>\n",
       "      <th>7</th>\n",
       "      <td>native</td>\n",
       "      <td>no</td>\n",
       "      <td>16-16-16</td>\n",
       "      <td>0-0</td>\n",
       "      <td>0</td>\n",
       "      <td>58</td>\n",
       "      <td>16</td>\n",
       "    </tr>\n",
       "    <tr>\n",
       "      <th>8</th>\n",
       "      <td>native</td>\n",
       "      <td>no</td>\n",
       "      <td>16-16-16</td>\n",
       "      <td>0-0</td>\n",
       "      <td>0</td>\n",
       "      <td>57</td>\n",
       "      <td>16</td>\n",
       "    </tr>\n",
       "    <tr>\n",
       "      <th>9</th>\n",
       "      <td>native</td>\n",
       "      <td>no</td>\n",
       "      <td>16-16-16</td>\n",
       "      <td>0-0</td>\n",
       "      <td>0</td>\n",
       "      <td>59</td>\n",
       "      <td>16</td>\n",
       "    </tr>\n",
       "  </tbody>\n",
       "</table>\n",
       "</div>"
      ],
      "text/plain": [
       "  calculator transposed     N_M_K bnr_bnc  nthreads  clocks  size\n",
       "0     native         no     8-8-8     0-0         0       7     8\n",
       "1     native         no     8-8-8     0-0         0      12     8\n",
       "2     native         no     8-8-8     0-0         0       7     8\n",
       "3     native         no     8-8-8     0-0         0       7     8\n",
       "4     native         no     8-8-8     0-0         0       7     8\n",
       "5     native         no  16-16-16     0-0         0      58    16\n",
       "6     native         no  16-16-16     0-0         0      57    16\n",
       "7     native         no  16-16-16     0-0         0      58    16\n",
       "8     native         no  16-16-16     0-0         0      57    16\n",
       "9     native         no  16-16-16     0-0         0      59    16"
      ]
     },
     "execution_count": 33,
     "metadata": {},
     "output_type": "execute_result"
    }
   ],
   "source": [
    "df_native['size'] = df_native['N_M_K'].apply(lambda x: x.split('-')[0]).astype(int)\n",
    "\n",
    "df_native.head(10)"
   ]
  },
  {
   "cell_type": "code",
   "execution_count": 34,
   "metadata": {},
   "outputs": [
    {
     "data": {
      "text/html": [
       "<div>\n",
       "<style scoped>\n",
       "    .dataframe tbody tr th:only-of-type {\n",
       "        vertical-align: middle;\n",
       "    }\n",
       "\n",
       "    .dataframe tbody tr th {\n",
       "        vertical-align: top;\n",
       "    }\n",
       "\n",
       "    .dataframe thead th {\n",
       "        text-align: right;\n",
       "    }\n",
       "</style>\n",
       "<table border=\"1\" class=\"dataframe\">\n",
       "  <thead>\n",
       "    <tr style=\"text-align: right;\">\n",
       "      <th></th>\n",
       "      <th>transposed</th>\n",
       "      <th>size</th>\n",
       "      <th>clocks</th>\n",
       "    </tr>\n",
       "  </thead>\n",
       "  <tbody>\n",
       "    <tr>\n",
       "      <th>0</th>\n",
       "      <td>no</td>\n",
       "      <td>8</td>\n",
       "      <td>8.0</td>\n",
       "    </tr>\n",
       "    <tr>\n",
       "      <th>1</th>\n",
       "      <td>no</td>\n",
       "      <td>16</td>\n",
       "      <td>57.8</td>\n",
       "    </tr>\n",
       "    <tr>\n",
       "      <th>2</th>\n",
       "      <td>no</td>\n",
       "      <td>32</td>\n",
       "      <td>201.8</td>\n",
       "    </tr>\n",
       "    <tr>\n",
       "      <th>3</th>\n",
       "      <td>no</td>\n",
       "      <td>64</td>\n",
       "      <td>1485.0</td>\n",
       "    </tr>\n",
       "    <tr>\n",
       "      <th>4</th>\n",
       "      <td>no</td>\n",
       "      <td>128</td>\n",
       "      <td>12974.2</td>\n",
       "    </tr>\n",
       "    <tr>\n",
       "      <th>5</th>\n",
       "      <td>no</td>\n",
       "      <td>256</td>\n",
       "      <td>116786.8</td>\n",
       "    </tr>\n",
       "    <tr>\n",
       "      <th>6</th>\n",
       "      <td>no</td>\n",
       "      <td>512</td>\n",
       "      <td>1137578.0</td>\n",
       "    </tr>\n",
       "    <tr>\n",
       "      <th>7</th>\n",
       "      <td>no</td>\n",
       "      <td>1024</td>\n",
       "      <td>13357414.6</td>\n",
       "    </tr>\n",
       "    <tr>\n",
       "      <th>8</th>\n",
       "      <td>yes</td>\n",
       "      <td>8</td>\n",
       "      <td>14.0</td>\n",
       "    </tr>\n",
       "    <tr>\n",
       "      <th>9</th>\n",
       "      <td>yes</td>\n",
       "      <td>16</td>\n",
       "      <td>74.0</td>\n",
       "    </tr>\n",
       "  </tbody>\n",
       "</table>\n",
       "</div>"
      ],
      "text/plain": [
       "  transposed  size      clocks\n",
       "0         no     8         8.0\n",
       "1         no    16        57.8\n",
       "2         no    32       201.8\n",
       "3         no    64      1485.0\n",
       "4         no   128     12974.2\n",
       "5         no   256    116786.8\n",
       "6         no   512   1137578.0\n",
       "7         no  1024  13357414.6\n",
       "8        yes     8        14.0\n",
       "9        yes    16        74.0"
      ]
     },
     "execution_count": 34,
     "metadata": {},
     "output_type": "execute_result"
    }
   ],
   "source": [
    "df_native = df_native.groupby(['transposed', 'size'])['clocks'].mean().reset_index()\n",
    "\n",
    "df_native.head(10)"
   ]
  },
  {
   "cell_type": "code",
   "execution_count": 40,
   "metadata": {},
   "outputs": [
    {
     "data": {
      "image/png": "[encoded data removed]",
      "text/plain": [
       "<Figure size 640x480 with 1 Axes>"
      ]
     },
     "metadata": {},
     "output_type": "display_data"
    },
    {
     "data": {
      "image/png": "[encoded data removed]",
      "text/plain": [
       "<Figure size 640x480 with 1 Axes>"
      ]
     },
     "metadata": {},
     "output_type": "display_data"
    }
   ],
   "source": [
    "sns.lineplot(data=df_native, x='size', y='clocks', hue='transposed');\n",
    "plt.show();\n",
    "sns.lineplot(data=df_native, x='size', y='clocks', hue='transposed');\n",
    "plt.yscale('log');\n",
    "plt.show();"
   ]
  },
  {
   "cell_type": "markdown",
   "metadata": {},
   "source": [
    "Мораль - храните вторую матрицу в транспонированном виде"
   ]
  },
  {
   "cell_type": "markdown",
   "metadata": {},
   "source": [
    "## Время умножения матриц от размера матриц для блочного умножения в 1 поток"
   ]
  },
  {
   "cell_type": "code",
   "execution_count": 41,
   "metadata": {},
   "outputs": [
    {
     "data": {
      "text/html": [
       "<div>\n",
       "<style scoped>\n",
       "    .dataframe tbody tr th:only-of-type {\n",
       "        vertical-align: middle;\n",
       "    }\n",
       "\n",
       "    .dataframe tbody tr th {\n",
       "        vertical-align: top;\n",
       "    }\n",
       "\n",
       "    .dataframe thead th {\n",
       "        text-align: right;\n",
       "    }\n",
       "</style>\n",
       "<table border=\"1\" class=\"dataframe\">\n",
       "  <thead>\n",
       "    <tr style=\"text-align: right;\">\n",
       "      <th></th>\n",
       "      <th>calculator</th>\n",
       "      <th>transposed</th>\n",
       "      <th>N_M_K</th>\n",
       "      <th>bnr_bnc</th>\n",
       "      <th>nthreads</th>\n",
       "      <th>clocks</th>\n",
       "    </tr>\n",
       "  </thead>\n",
       "  <tbody>\n",
       "    <tr>\n",
       "      <th>80</th>\n",
       "      <td>block</td>\n",
       "      <td>no</td>\n",
       "      <td>8-8-8</td>\n",
       "      <td>2-2</td>\n",
       "      <td>0</td>\n",
       "      <td>11</td>\n",
       "    </tr>\n",
       "    <tr>\n",
       "      <th>81</th>\n",
       "      <td>block</td>\n",
       "      <td>no</td>\n",
       "      <td>8-8-8</td>\n",
       "      <td>2-2</td>\n",
       "      <td>0</td>\n",
       "      <td>12</td>\n",
       "    </tr>\n",
       "    <tr>\n",
       "      <th>82</th>\n",
       "      <td>block</td>\n",
       "      <td>no</td>\n",
       "      <td>8-8-8</td>\n",
       "      <td>2-2</td>\n",
       "      <td>0</td>\n",
       "      <td>11</td>\n",
       "    </tr>\n",
       "    <tr>\n",
       "      <th>83</th>\n",
       "      <td>block</td>\n",
       "      <td>no</td>\n",
       "      <td>8-8-8</td>\n",
       "      <td>2-2</td>\n",
       "      <td>0</td>\n",
       "      <td>11</td>\n",
       "    </tr>\n",
       "    <tr>\n",
       "      <th>84</th>\n",
       "      <td>block</td>\n",
       "      <td>no</td>\n",
       "      <td>8-8-8</td>\n",
       "      <td>2-2</td>\n",
       "      <td>0</td>\n",
       "      <td>12</td>\n",
       "    </tr>\n",
       "  </tbody>\n",
       "</table>\n",
       "</div>"
      ],
      "text/plain": [
       "   calculator transposed  N_M_K bnr_bnc  nthreads  clocks\n",
       "80      block         no  8-8-8     2-2         0      11\n",
       "81      block         no  8-8-8     2-2         0      12\n",
       "82      block         no  8-8-8     2-2         0      11\n",
       "83      block         no  8-8-8     2-2         0      11\n",
       "84      block         no  8-8-8     2-2         0      12"
      ]
     },
     "execution_count": 41,
     "metadata": {},
     "output_type": "execute_result"
    }
   ],
   "source": [
    "df_block = df.loc[df['calculator'] == 'block'].copy()\n",
    "\n",
    "df_block.head()"
   ]
  },
  {
   "cell_type": "code",
   "execution_count": 42,
   "metadata": {},
   "outputs": [
    {
     "data": {
      "text/html": [
       "<div>\n",
       "<style scoped>\n",
       "    .dataframe tbody tr th:only-of-type {\n",
       "        vertical-align: middle;\n",
       "    }\n",
       "\n",
       "    .dataframe tbody tr th {\n",
       "        vertical-align: top;\n",
       "    }\n",
       "\n",
       "    .dataframe thead th {\n",
       "        text-align: right;\n",
       "    }\n",
       "</style>\n",
       "<table border=\"1\" class=\"dataframe\">\n",
       "  <thead>\n",
       "    <tr style=\"text-align: right;\">\n",
       "      <th></th>\n",
       "      <th>calculator</th>\n",
       "      <th>transposed</th>\n",
       "      <th>N_M_K</th>\n",
       "      <th>bnr_bnc</th>\n",
       "      <th>nthreads</th>\n",
       "      <th>clocks</th>\n",
       "      <th>size</th>\n",
       "    </tr>\n",
       "  </thead>\n",
       "  <tbody>\n",
       "    <tr>\n",
       "      <th>80</th>\n",
       "      <td>block</td>\n",
       "      <td>no</td>\n",
       "      <td>8-8-8</td>\n",
       "      <td>2-2</td>\n",
       "      <td>0</td>\n",
       "      <td>11</td>\n",
       "      <td>8</td>\n",
       "    </tr>\n",
       "    <tr>\n",
       "      <th>81</th>\n",
       "      <td>block</td>\n",
       "      <td>no</td>\n",
       "      <td>8-8-8</td>\n",
       "      <td>2-2</td>\n",
       "      <td>0</td>\n",
       "      <td>12</td>\n",
       "      <td>8</td>\n",
       "    </tr>\n",
       "    <tr>\n",
       "      <th>82</th>\n",
       "      <td>block</td>\n",
       "      <td>no</td>\n",
       "      <td>8-8-8</td>\n",
       "      <td>2-2</td>\n",
       "      <td>0</td>\n",
       "      <td>11</td>\n",
       "      <td>8</td>\n",
       "    </tr>\n",
       "    <tr>\n",
       "      <th>83</th>\n",
       "      <td>block</td>\n",
       "      <td>no</td>\n",
       "      <td>8-8-8</td>\n",
       "      <td>2-2</td>\n",
       "      <td>0</td>\n",
       "      <td>11</td>\n",
       "      <td>8</td>\n",
       "    </tr>\n",
       "    <tr>\n",
       "      <th>84</th>\n",
       "      <td>block</td>\n",
       "      <td>no</td>\n",
       "      <td>8-8-8</td>\n",
       "      <td>2-2</td>\n",
       "      <td>0</td>\n",
       "      <td>12</td>\n",
       "      <td>8</td>\n",
       "    </tr>\n",
       "  </tbody>\n",
       "</table>\n",
       "</div>"
      ],
      "text/plain": [
       "   calculator transposed  N_M_K bnr_bnc  nthreads  clocks  size\n",
       "80      block         no  8-8-8     2-2         0      11     8\n",
       "81      block         no  8-8-8     2-2         0      12     8\n",
       "82      block         no  8-8-8     2-2         0      11     8\n",
       "83      block         no  8-8-8     2-2         0      11     8\n",
       "84      block         no  8-8-8     2-2         0      12     8"
      ]
     },
     "execution_count": 42,
     "metadata": {},
     "output_type": "execute_result"
    }
   ],
   "source": [
    "df_block['size'] = df_block['N_M_K'].apply(lambda x: x.split('-')[0]).astype(int)\n",
    "\n",
    "df_block.head()"
   ]
  },
  {
   "cell_type": "code",
   "execution_count": 43,
   "metadata": {},
   "outputs": [
    {
     "data": {
      "text/html": [
       "<div>\n",
       "<style scoped>\n",
       "    .dataframe tbody tr th:only-of-type {\n",
       "        vertical-align: middle;\n",
       "    }\n",
       "\n",
       "    .dataframe tbody tr th {\n",
       "        vertical-align: top;\n",
       "    }\n",
       "\n",
       "    .dataframe thead th {\n",
       "        text-align: right;\n",
       "    }\n",
       "</style>\n",
       "<table border=\"1\" class=\"dataframe\">\n",
       "  <thead>\n",
       "    <tr style=\"text-align: right;\">\n",
       "      <th></th>\n",
       "      <th>transposed</th>\n",
       "      <th>size</th>\n",
       "      <th>clocks</th>\n",
       "    </tr>\n",
       "  </thead>\n",
       "  <tbody>\n",
       "    <tr>\n",
       "      <th>0</th>\n",
       "      <td>yes</td>\n",
       "      <td>8</td>\n",
       "      <td>12.4</td>\n",
       "    </tr>\n",
       "    <tr>\n",
       "      <th>1</th>\n",
       "      <td>yes</td>\n",
       "      <td>16</td>\n",
       "      <td>68.6</td>\n",
       "    </tr>\n",
       "    <tr>\n",
       "      <th>2</th>\n",
       "      <td>yes</td>\n",
       "      <td>32</td>\n",
       "      <td>411.8</td>\n",
       "    </tr>\n",
       "    <tr>\n",
       "      <th>3</th>\n",
       "      <td>yes</td>\n",
       "      <td>64</td>\n",
       "      <td>3695.6</td>\n",
       "    </tr>\n",
       "    <tr>\n",
       "      <th>4</th>\n",
       "      <td>yes</td>\n",
       "      <td>128</td>\n",
       "      <td>16046.2</td>\n",
       "    </tr>\n",
       "    <tr>\n",
       "      <th>5</th>\n",
       "      <td>yes</td>\n",
       "      <td>256</td>\n",
       "      <td>77487.6</td>\n",
       "    </tr>\n",
       "    <tr>\n",
       "      <th>6</th>\n",
       "      <td>yes</td>\n",
       "      <td>512</td>\n",
       "      <td>587767.2</td>\n",
       "    </tr>\n",
       "    <tr>\n",
       "      <th>7</th>\n",
       "      <td>yes</td>\n",
       "      <td>1024</td>\n",
       "      <td>4873925.6</td>\n",
       "    </tr>\n",
       "    <tr>\n",
       "      <th>8</th>\n",
       "      <td>no</td>\n",
       "      <td>8</td>\n",
       "      <td>11.4</td>\n",
       "    </tr>\n",
       "    <tr>\n",
       "      <th>9</th>\n",
       "      <td>no</td>\n",
       "      <td>16</td>\n",
       "      <td>70.2</td>\n",
       "    </tr>\n",
       "  </tbody>\n",
       "</table>\n",
       "</div>"
      ],
      "text/plain": [
       "  transposed  size     clocks\n",
       "0        yes     8       12.4\n",
       "1        yes    16       68.6\n",
       "2        yes    32      411.8\n",
       "3        yes    64     3695.6\n",
       "4        yes   128    16046.2\n",
       "5        yes   256    77487.6\n",
       "6        yes   512   587767.2\n",
       "7        yes  1024  4873925.6\n",
       "8         no     8       11.4\n",
       "9         no    16       70.2"
      ]
     },
     "execution_count": 43,
     "metadata": {},
     "output_type": "execute_result"
    }
   ],
   "source": [
    "df_block = df_block.groupby(['transposed', 'size'])['clocks'].mean().reset_index()\n",
    "\n",
    "df_block.head(10)"
   ]
  },
  {
   "cell_type": "code",
   "execution_count": 44,
   "metadata": {},
   "outputs": [
    {
     "data": {
      "image/png": "[encoded data removed]",
      "text/plain": [
       "<Figure size 640x480 with 1 Axes>"
      ]
     },
     "metadata": {},
     "output_type": "display_data"
    },
    {
     "data": {
      "image/png": "[encoded data removed]",
      "text/plain": [
       "<Figure size 640x480 with 1 Axes>"
      ]
     },
     "metadata": {},
     "output_type": "display_data"
    }
   ],
   "source": [
    "sns.lineplot(data=df_block, x='size', y='clocks', hue='transposed');\n",
    "plt.show();\n",
    "sns.lineplot(data=df_block, x='size', y='clocks', hue='transposed');\n",
    "plt.yscale('log');\n",
    "plt.show();"
   ]
  },
  {
   "cell_type": "markdown",
   "metadata": {},
   "source": [
    "Интересно, но ничего не понятно, давайте построим хороший график"
   ]
  },
  {
   "cell_type": "code",
   "execution_count": 55,
   "metadata": {},
   "outputs": [
    {
     "data": {
      "text/html": [
       "<div>\n",
       "<style scoped>\n",
       "    .dataframe tbody tr th:only-of-type {\n",
       "        vertical-align: middle;\n",
       "    }\n",
       "\n",
       "    .dataframe tbody tr th {\n",
       "        vertical-align: top;\n",
       "    }\n",
       "\n",
       "    .dataframe thead th {\n",
       "        text-align: right;\n",
       "    }\n",
       "</style>\n",
       "<table border=\"1\" class=\"dataframe\">\n",
       "  <thead>\n",
       "    <tr style=\"text-align: right;\">\n",
       "      <th></th>\n",
       "      <th>calculator</th>\n",
       "      <th>transposed</th>\n",
       "      <th>N_M_K</th>\n",
       "      <th>bnr_bnc</th>\n",
       "      <th>nthreads</th>\n",
       "      <th>clocks</th>\n",
       "    </tr>\n",
       "  </thead>\n",
       "  <tbody>\n",
       "    <tr>\n",
       "      <th>29</th>\n",
       "      <td>native</td>\n",
       "      <td>no</td>\n",
       "      <td>256-256-256</td>\n",
       "      <td>0-0</td>\n",
       "      <td>0</td>\n",
       "      <td>111598</td>\n",
       "    </tr>\n",
       "    <tr>\n",
       "      <th>41</th>\n",
       "      <td>native</td>\n",
       "      <td>yes</td>\n",
       "      <td>8-8-8</td>\n",
       "      <td>0-0</td>\n",
       "      <td>0</td>\n",
       "      <td>11</td>\n",
       "    </tr>\n",
       "    <tr>\n",
       "      <th>96</th>\n",
       "      <td>block</td>\n",
       "      <td>no</td>\n",
       "      <td>64-64-64</td>\n",
       "      <td>16-16</td>\n",
       "      <td>0</td>\n",
       "      <td>2509</td>\n",
       "    </tr>\n",
       "    <tr>\n",
       "      <th>11</th>\n",
       "      <td>native</td>\n",
       "      <td>no</td>\n",
       "      <td>32-32-32</td>\n",
       "      <td>0-0</td>\n",
       "      <td>0</td>\n",
       "      <td>196</td>\n",
       "    </tr>\n",
       "    <tr>\n",
       "      <th>8</th>\n",
       "      <td>native</td>\n",
       "      <td>no</td>\n",
       "      <td>16-16-16</td>\n",
       "      <td>0-0</td>\n",
       "      <td>0</td>\n",
       "      <td>57</td>\n",
       "    </tr>\n",
       "  </tbody>\n",
       "</table>\n",
       "</div>"
      ],
      "text/plain": [
       "   calculator transposed        N_M_K bnr_bnc  nthreads  clocks\n",
       "29     native         no  256-256-256     0-0         0  111598\n",
       "41     native        yes        8-8-8     0-0         0      11\n",
       "96      block         no     64-64-64   16-16         0    2509\n",
       "11     native         no     32-32-32     0-0         0     196\n",
       "8      native         no     16-16-16     0-0         0      57"
      ]
     },
     "execution_count": 55,
     "metadata": {},
     "output_type": "execute_result"
    }
   ],
   "source": [
    "df_native_block = df.loc[(df['calculator'] == 'native') | (df['calculator'] == 'block')].copy()\n",
    "\n",
    "df_native_block.sample(5)"
   ]
  },
  {
   "cell_type": "code",
   "execution_count": 56,
   "metadata": {},
   "outputs": [
    {
     "data": {
      "text/html": [
       "<div>\n",
       "<style scoped>\n",
       "    .dataframe tbody tr th:only-of-type {\n",
       "        vertical-align: middle;\n",
       "    }\n",
       "\n",
       "    .dataframe tbody tr th {\n",
       "        vertical-align: top;\n",
       "    }\n",
       "\n",
       "    .dataframe thead th {\n",
       "        text-align: right;\n",
       "    }\n",
       "</style>\n",
       "<table border=\"1\" class=\"dataframe\">\n",
       "  <thead>\n",
       "    <tr style=\"text-align: right;\">\n",
       "      <th></th>\n",
       "      <th>calculator</th>\n",
       "      <th>transposed</th>\n",
       "      <th>N_M_K</th>\n",
       "      <th>bnr_bnc</th>\n",
       "      <th>nthreads</th>\n",
       "      <th>clocks</th>\n",
       "      <th>size</th>\n",
       "    </tr>\n",
       "  </thead>\n",
       "  <tbody>\n",
       "    <tr>\n",
       "      <th>0</th>\n",
       "      <td>native</td>\n",
       "      <td>no</td>\n",
       "      <td>8-8-8</td>\n",
       "      <td>0-0</td>\n",
       "      <td>0</td>\n",
       "      <td>7</td>\n",
       "      <td>8</td>\n",
       "    </tr>\n",
       "    <tr>\n",
       "      <th>1</th>\n",
       "      <td>native</td>\n",
       "      <td>no</td>\n",
       "      <td>8-8-8</td>\n",
       "      <td>0-0</td>\n",
       "      <td>0</td>\n",
       "      <td>12</td>\n",
       "      <td>8</td>\n",
       "    </tr>\n",
       "    <tr>\n",
       "      <th>2</th>\n",
       "      <td>native</td>\n",
       "      <td>no</td>\n",
       "      <td>8-8-8</td>\n",
       "      <td>0-0</td>\n",
       "      <td>0</td>\n",
       "      <td>7</td>\n",
       "      <td>8</td>\n",
       "    </tr>\n",
       "    <tr>\n",
       "      <th>3</th>\n",
       "      <td>native</td>\n",
       "      <td>no</td>\n",
       "      <td>8-8-8</td>\n",
       "      <td>0-0</td>\n",
       "      <td>0</td>\n",
       "      <td>7</td>\n",
       "      <td>8</td>\n",
       "    </tr>\n",
       "    <tr>\n",
       "      <th>4</th>\n",
       "      <td>native</td>\n",
       "      <td>no</td>\n",
       "      <td>8-8-8</td>\n",
       "      <td>0-0</td>\n",
       "      <td>0</td>\n",
       "      <td>7</td>\n",
       "      <td>8</td>\n",
       "    </tr>\n",
       "  </tbody>\n",
       "</table>\n",
       "</div>"
      ],
      "text/plain": [
       "  calculator transposed  N_M_K bnr_bnc  nthreads  clocks  size\n",
       "0     native         no  8-8-8     0-0         0       7     8\n",
       "1     native         no  8-8-8     0-0         0      12     8\n",
       "2     native         no  8-8-8     0-0         0       7     8\n",
       "3     native         no  8-8-8     0-0         0       7     8\n",
       "4     native         no  8-8-8     0-0         0       7     8"
      ]
     },
     "execution_count": 56,
     "metadata": {},
     "output_type": "execute_result"
    }
   ],
   "source": [
    "df_native_block['size'] = df_native_block['N_M_K'].apply(lambda x: x.split('-')[0]).astype(int)\n",
    "\n",
    "df_native_block.head()"
   ]
  },
  {
   "cell_type": "code",
   "execution_count": 57,
   "metadata": {},
   "outputs": [
    {
     "data": {
      "text/html": [
       "<div>\n",
       "<style scoped>\n",
       "    .dataframe tbody tr th:only-of-type {\n",
       "        vertical-align: middle;\n",
       "    }\n",
       "\n",
       "    .dataframe tbody tr th {\n",
       "        vertical-align: top;\n",
       "    }\n",
       "\n",
       "    .dataframe thead th {\n",
       "        text-align: right;\n",
       "    }\n",
       "</style>\n",
       "<table border=\"1\" class=\"dataframe\">\n",
       "  <thead>\n",
       "    <tr style=\"text-align: right;\">\n",
       "      <th></th>\n",
       "      <th>transposed</th>\n",
       "      <th>size</th>\n",
       "      <th>calculator</th>\n",
       "      <th>clocks</th>\n",
       "    </tr>\n",
       "  </thead>\n",
       "  <tbody>\n",
       "    <tr>\n",
       "      <th>0</th>\n",
       "      <td>yes</td>\n",
       "      <td>8</td>\n",
       "      <td>block</td>\n",
       "      <td>12.4</td>\n",
       "    </tr>\n",
       "    <tr>\n",
       "      <th>1</th>\n",
       "      <td>yes</td>\n",
       "      <td>16</td>\n",
       "      <td>block</td>\n",
       "      <td>68.6</td>\n",
       "    </tr>\n",
       "    <tr>\n",
       "      <th>2</th>\n",
       "      <td>yes</td>\n",
       "      <td>32</td>\n",
       "      <td>block</td>\n",
       "      <td>411.8</td>\n",
       "    </tr>\n",
       "    <tr>\n",
       "      <th>3</th>\n",
       "      <td>yes</td>\n",
       "      <td>64</td>\n",
       "      <td>block</td>\n",
       "      <td>3695.6</td>\n",
       "    </tr>\n",
       "    <tr>\n",
       "      <th>4</th>\n",
       "      <td>yes</td>\n",
       "      <td>128</td>\n",
       "      <td>block</td>\n",
       "      <td>16046.2</td>\n",
       "    </tr>\n",
       "    <tr>\n",
       "      <th>5</th>\n",
       "      <td>yes</td>\n",
       "      <td>256</td>\n",
       "      <td>block</td>\n",
       "      <td>77487.6</td>\n",
       "    </tr>\n",
       "    <tr>\n",
       "      <th>6</th>\n",
       "      <td>yes</td>\n",
       "      <td>512</td>\n",
       "      <td>block</td>\n",
       "      <td>587767.2</td>\n",
       "    </tr>\n",
       "    <tr>\n",
       "      <th>7</th>\n",
       "      <td>yes</td>\n",
       "      <td>1024</td>\n",
       "      <td>block</td>\n",
       "      <td>4873925.6</td>\n",
       "    </tr>\n",
       "    <tr>\n",
       "      <th>8</th>\n",
       "      <td>no</td>\n",
       "      <td>8</td>\n",
       "      <td>block</td>\n",
       "      <td>11.4</td>\n",
       "    </tr>\n",
       "    <tr>\n",
       "      <th>9</th>\n",
       "      <td>no</td>\n",
       "      <td>8</td>\n",
       "      <td>native</td>\n",
       "      <td>8.0</td>\n",
       "    </tr>\n",
       "  </tbody>\n",
       "</table>\n",
       "</div>"
      ],
      "text/plain": [
       "  transposed  size calculator     clocks\n",
       "0        yes     8      block       12.4\n",
       "1        yes    16      block       68.6\n",
       "2        yes    32      block      411.8\n",
       "3        yes    64      block     3695.6\n",
       "4        yes   128      block    16046.2\n",
       "5        yes   256      block    77487.6\n",
       "6        yes   512      block   587767.2\n",
       "7        yes  1024      block  4873925.6\n",
       "8         no     8      block       11.4\n",
       "9         no     8     native        8.0"
      ]
     },
     "execution_count": 57,
     "metadata": {},
     "output_type": "execute_result"
    }
   ],
   "source": [
    "df_native_block = df_native_block.groupby(['transposed', 'size', 'calculator'])['clocks'].mean().reset_index()\n",
    "\n",
    "df_native_block.head(10)"
   ]
  },
  {
   "cell_type": "code",
   "execution_count": 64,
   "metadata": {},
   "outputs": [
    {
     "data": {
      "text/html": [
       "<div>\n",
       "<style scoped>\n",
       "    .dataframe tbody tr th:only-of-type {\n",
       "        vertical-align: middle;\n",
       "    }\n",
       "\n",
       "    .dataframe tbody tr th {\n",
       "        vertical-align: top;\n",
       "    }\n",
       "\n",
       "    .dataframe thead th {\n",
       "        text-align: right;\n",
       "    }\n",
       "</style>\n",
       "<table border=\"1\" class=\"dataframe\">\n",
       "  <thead>\n",
       "    <tr style=\"text-align: right;\">\n",
       "      <th></th>\n",
       "      <th>transposed</th>\n",
       "      <th>size</th>\n",
       "      <th>calculator</th>\n",
       "      <th>clocks</th>\n",
       "      <th>hue</th>\n",
       "    </tr>\n",
       "  </thead>\n",
       "  <tbody>\n",
       "    <tr>\n",
       "      <th>0</th>\n",
       "      <td>yes</td>\n",
       "      <td>8</td>\n",
       "      <td>block</td>\n",
       "      <td>12.4</td>\n",
       "      <td>block_ yes</td>\n",
       "    </tr>\n",
       "    <tr>\n",
       "      <th>1</th>\n",
       "      <td>yes</td>\n",
       "      <td>16</td>\n",
       "      <td>block</td>\n",
       "      <td>68.6</td>\n",
       "      <td>block_ yes</td>\n",
       "    </tr>\n",
       "    <tr>\n",
       "      <th>2</th>\n",
       "      <td>yes</td>\n",
       "      <td>32</td>\n",
       "      <td>block</td>\n",
       "      <td>411.8</td>\n",
       "      <td>block_ yes</td>\n",
       "    </tr>\n",
       "    <tr>\n",
       "      <th>3</th>\n",
       "      <td>yes</td>\n",
       "      <td>64</td>\n",
       "      <td>block</td>\n",
       "      <td>3695.6</td>\n",
       "      <td>block_ yes</td>\n",
       "    </tr>\n",
       "    <tr>\n",
       "      <th>4</th>\n",
       "      <td>yes</td>\n",
       "      <td>128</td>\n",
       "      <td>block</td>\n",
       "      <td>16046.2</td>\n",
       "      <td>block_ yes</td>\n",
       "    </tr>\n",
       "  </tbody>\n",
       "</table>\n",
       "</div>"
      ],
      "text/plain": [
       "  transposed  size calculator   clocks         hue\n",
       "0        yes     8      block     12.4  block_ yes\n",
       "1        yes    16      block     68.6  block_ yes\n",
       "2        yes    32      block    411.8  block_ yes\n",
       "3        yes    64      block   3695.6  block_ yes\n",
       "4        yes   128      block  16046.2  block_ yes"
      ]
     },
     "execution_count": 64,
     "metadata": {},
     "output_type": "execute_result"
    }
   ],
   "source": [
    "df_native_block['hue'] = df_native_block['calculator'] + '_' + df_native_block['transposed']\n",
    "\n",
    "df_native_block.head()"
   ]
  },
  {
   "cell_type": "code",
   "execution_count": 66,
   "metadata": {},
   "outputs": [
    {
     "data": {
      "image/png": "[encoded data removed]",
      "text/plain": [
       "<Figure size 640x480 with 1 Axes>"
      ]
     },
     "metadata": {},
     "output_type": "display_data"
    },
    {
     "data": {
      "image/png": "[encoded data removed]",
      "text/plain": [
       "<Figure size 640x480 with 1 Axes>"
      ]
     },
     "metadata": {},
     "output_type": "display_data"
    }
   ],
   "source": [
    "sns.lineplot(data=df_native_block, x='size', y='clocks', hue='hue');\n",
    "plt.show();\n",
    "sns.lineplot(data=df_native_block, x='size', y='clocks', hue='hue');\n",
    "plt.yscale('log');\n",
    "plt.show();"
   ]
  },
  {
   "cell_type": "markdown",
   "metadata": {},
   "source": [
    "Синяя (block + transformed) идет позади красной (native + transformed)\n",
    "\n",
    "Нетранспонированные версии показывают, что я не умею в оптимизацию)"
   ]
  },
  {
   "cell_type": "markdown",
   "metadata": {},
   "source": [
    "## Время умножения матриц от количества тредов для не-блочного разделения задач по тредам (например, по строкам / столбцам)"
   ]
  },
  {
   "cell_type": "code",
   "execution_count": 67,
   "metadata": {},
   "outputs": [
    {
     "data": {
      "text/html": [
       "<div>\n",
       "<style scoped>\n",
       "    .dataframe tbody tr th:only-of-type {\n",
       "        vertical-align: middle;\n",
       "    }\n",
       "\n",
       "    .dataframe tbody tr th {\n",
       "        vertical-align: top;\n",
       "    }\n",
       "\n",
       "    .dataframe thead th {\n",
       "        text-align: right;\n",
       "    }\n",
       "</style>\n",
       "<table border=\"1\" class=\"dataframe\">\n",
       "  <thead>\n",
       "    <tr style=\"text-align: right;\">\n",
       "      <th></th>\n",
       "      <th>calculator</th>\n",
       "      <th>transposed</th>\n",
       "      <th>N_M_K</th>\n",
       "      <th>bnr_bnc</th>\n",
       "      <th>nthreads</th>\n",
       "      <th>clocks</th>\n",
       "    </tr>\n",
       "  </thead>\n",
       "  <tbody>\n",
       "    <tr>\n",
       "      <th>160</th>\n",
       "      <td>native_m</td>\n",
       "      <td>no</td>\n",
       "      <td>2048-5120-2048</td>\n",
       "      <td>0-0</td>\n",
       "      <td>2</td>\n",
       "      <td>1194233000</td>\n",
       "    </tr>\n",
       "    <tr>\n",
       "      <th>161</th>\n",
       "      <td>native_m</td>\n",
       "      <td>no</td>\n",
       "      <td>2048-5120-2048</td>\n",
       "      <td>0-0</td>\n",
       "      <td>2</td>\n",
       "      <td>1071852105</td>\n",
       "    </tr>\n",
       "    <tr>\n",
       "      <th>162</th>\n",
       "      <td>native_m</td>\n",
       "      <td>no</td>\n",
       "      <td>2048-5120-2048</td>\n",
       "      <td>0-0</td>\n",
       "      <td>2</td>\n",
       "      <td>981622121</td>\n",
       "    </tr>\n",
       "    <tr>\n",
       "      <th>163</th>\n",
       "      <td>native_m</td>\n",
       "      <td>no</td>\n",
       "      <td>2048-5120-2048</td>\n",
       "      <td>0-0</td>\n",
       "      <td>2</td>\n",
       "      <td>976946649</td>\n",
       "    </tr>\n",
       "    <tr>\n",
       "      <th>164</th>\n",
       "      <td>native_m</td>\n",
       "      <td>no</td>\n",
       "      <td>2048-5120-2048</td>\n",
       "      <td>0-0</td>\n",
       "      <td>2</td>\n",
       "      <td>1000173997</td>\n",
       "    </tr>\n",
       "  </tbody>\n",
       "</table>\n",
       "</div>"
      ],
      "text/plain": [
       "    calculator transposed           N_M_K bnr_bnc  nthreads      clocks\n",
       "160   native_m         no  2048-5120-2048     0-0         2  1194233000\n",
       "161   native_m         no  2048-5120-2048     0-0         2  1071852105\n",
       "162   native_m         no  2048-5120-2048     0-0         2   981622121\n",
       "163   native_m         no  2048-5120-2048     0-0         2   976946649\n",
       "164   native_m         no  2048-5120-2048     0-0         2  1000173997"
      ]
     },
     "execution_count": 67,
     "metadata": {},
     "output_type": "execute_result"
    }
   ],
   "source": [
    "df_native_m = df.loc[df['calculator'] == 'native_m'].copy()\n",
    "\n",
    "df_native_m.head()"
   ]
  },
  {
   "cell_type": "code",
   "execution_count": 68,
   "metadata": {},
   "outputs": [
    {
     "data": {
      "text/html": [
       "<div>\n",
       "<style scoped>\n",
       "    .dataframe tbody tr th:only-of-type {\n",
       "        vertical-align: middle;\n",
       "    }\n",
       "\n",
       "    .dataframe tbody tr th {\n",
       "        vertical-align: top;\n",
       "    }\n",
       "\n",
       "    .dataframe thead th {\n",
       "        text-align: right;\n",
       "    }\n",
       "</style>\n",
       "<table border=\"1\" class=\"dataframe\">\n",
       "  <thead>\n",
       "    <tr style=\"text-align: right;\">\n",
       "      <th></th>\n",
       "      <th>transposed</th>\n",
       "      <th>nthreads</th>\n",
       "      <th>clocks</th>\n",
       "    </tr>\n",
       "  </thead>\n",
       "  <tbody>\n",
       "    <tr>\n",
       "      <th>0</th>\n",
       "      <td>no</td>\n",
       "      <td>2</td>\n",
       "      <td>1.044966e+09</td>\n",
       "    </tr>\n",
       "    <tr>\n",
       "      <th>1</th>\n",
       "      <td>no</td>\n",
       "      <td>3</td>\n",
       "      <td>9.687381e+08</td>\n",
       "    </tr>\n",
       "    <tr>\n",
       "      <th>2</th>\n",
       "      <td>no</td>\n",
       "      <td>4</td>\n",
       "      <td>9.964105e+08</td>\n",
       "    </tr>\n",
       "    <tr>\n",
       "      <th>3</th>\n",
       "      <td>no</td>\n",
       "      <td>5</td>\n",
       "      <td>9.941943e+08</td>\n",
       "    </tr>\n",
       "    <tr>\n",
       "      <th>4</th>\n",
       "      <td>no</td>\n",
       "      <td>6</td>\n",
       "      <td>1.032252e+09</td>\n",
       "    </tr>\n",
       "  </tbody>\n",
       "</table>\n",
       "</div>"
      ],
      "text/plain": [
       "  transposed  nthreads        clocks\n",
       "0         no         2  1.044966e+09\n",
       "1         no         3  9.687381e+08\n",
       "2         no         4  9.964105e+08\n",
       "3         no         5  9.941943e+08\n",
       "4         no         6  1.032252e+09"
      ]
     },
     "execution_count": 68,
     "metadata": {},
     "output_type": "execute_result"
    }
   ],
   "source": [
    "df_native_m = df_native_m.groupby(['transposed', 'nthreads'])['clocks'].mean().reset_index()\n",
    "\n",
    "df_native_m.head()"
   ]
  },
  {
   "cell_type": "code",
   "execution_count": 75,
   "metadata": {},
   "outputs": [
    {
     "data": {
      "image/png": "[encoded data removed]",
      "text/plain": [
       "<Figure size 640x480 with 1 Axes>"
      ]
     },
     "metadata": {},
     "output_type": "display_data"
    }
   ],
   "source": [
    "sns.lineplot(data=df_native_m, x='nthreads', y='clocks', hue='transposed');"
   ]
  },
  {
   "cell_type": "markdown",
   "metadata": {},
   "source": [
    "Вот тут я на самом деле сам удивлен\n",
    "\n",
    "Я ожидал максимум производительности около кол-ва потоков (4 ядра, 8 потоков $\\rightarrow$ 8-10). \n",
    "\n",
    "А он попадает в 4 (почти ровно)"
   ]
  },
  {
   "cell_type": "markdown",
   "metadata": {},
   "source": [
    "## Время умножения матриц от количества тредов для блочной реализации"
   ]
  },
  {
   "cell_type": "code",
   "execution_count": 70,
   "metadata": {},
   "outputs": [
    {
     "data": {
      "text/html": [
       "<div>\n",
       "<style scoped>\n",
       "    .dataframe tbody tr th:only-of-type {\n",
       "        vertical-align: middle;\n",
       "    }\n",
       "\n",
       "    .dataframe tbody tr th {\n",
       "        vertical-align: top;\n",
       "    }\n",
       "\n",
       "    .dataframe thead th {\n",
       "        text-align: right;\n",
       "    }\n",
       "</style>\n",
       "<table border=\"1\" class=\"dataframe\">\n",
       "  <thead>\n",
       "    <tr style=\"text-align: right;\">\n",
       "      <th></th>\n",
       "      <th>calculator</th>\n",
       "      <th>transposed</th>\n",
       "      <th>N_M_K</th>\n",
       "      <th>bnr_bnc</th>\n",
       "      <th>nthreads</th>\n",
       "      <th>clocks</th>\n",
       "    </tr>\n",
       "  </thead>\n",
       "  <tbody>\n",
       "    <tr>\n",
       "      <th>270</th>\n",
       "      <td>block_m</td>\n",
       "      <td>yes</td>\n",
       "      <td>2048-5120-2048</td>\n",
       "      <td>64-64</td>\n",
       "      <td>2</td>\n",
       "      <td>206518948</td>\n",
       "    </tr>\n",
       "    <tr>\n",
       "      <th>271</th>\n",
       "      <td>block_m</td>\n",
       "      <td>yes</td>\n",
       "      <td>2048-5120-2048</td>\n",
       "      <td>64-64</td>\n",
       "      <td>2</td>\n",
       "      <td>206946626</td>\n",
       "    </tr>\n",
       "    <tr>\n",
       "      <th>272</th>\n",
       "      <td>block_m</td>\n",
       "      <td>yes</td>\n",
       "      <td>2048-5120-2048</td>\n",
       "      <td>64-64</td>\n",
       "      <td>2</td>\n",
       "      <td>207238834</td>\n",
       "    </tr>\n",
       "    <tr>\n",
       "      <th>273</th>\n",
       "      <td>block_m</td>\n",
       "      <td>yes</td>\n",
       "      <td>2048-5120-2048</td>\n",
       "      <td>64-64</td>\n",
       "      <td>2</td>\n",
       "      <td>207760957</td>\n",
       "    </tr>\n",
       "    <tr>\n",
       "      <th>274</th>\n",
       "      <td>block_m</td>\n",
       "      <td>yes</td>\n",
       "      <td>2048-5120-2048</td>\n",
       "      <td>64-64</td>\n",
       "      <td>2</td>\n",
       "      <td>207450900</td>\n",
       "    </tr>\n",
       "  </tbody>\n",
       "</table>\n",
       "</div>"
      ],
      "text/plain": [
       "    calculator transposed           N_M_K bnr_bnc  nthreads     clocks\n",
       "270    block_m        yes  2048-5120-2048   64-64         2  206518948\n",
       "271    block_m        yes  2048-5120-2048   64-64         2  206946626\n",
       "272    block_m        yes  2048-5120-2048   64-64         2  207238834\n",
       "273    block_m        yes  2048-5120-2048   64-64         2  207760957\n",
       "274    block_m        yes  2048-5120-2048   64-64         2  207450900"
      ]
     },
     "execution_count": 70,
     "metadata": {},
     "output_type": "execute_result"
    }
   ],
   "source": [
    "df_block_m = df.loc[df['calculator'] == 'block_m'].copy()\n",
    "\n",
    "df_block_m.head()"
   ]
  },
  {
   "cell_type": "code",
   "execution_count": 71,
   "metadata": {},
   "outputs": [
    {
     "data": {
      "text/html": [
       "<div>\n",
       "<style scoped>\n",
       "    .dataframe tbody tr th:only-of-type {\n",
       "        vertical-align: middle;\n",
       "    }\n",
       "\n",
       "    .dataframe tbody tr th {\n",
       "        vertical-align: top;\n",
       "    }\n",
       "\n",
       "    .dataframe thead th {\n",
       "        text-align: right;\n",
       "    }\n",
       "</style>\n",
       "<table border=\"1\" class=\"dataframe\">\n",
       "  <thead>\n",
       "    <tr style=\"text-align: right;\">\n",
       "      <th></th>\n",
       "      <th>transposed</th>\n",
       "      <th>nthreads</th>\n",
       "      <th>clocks</th>\n",
       "    </tr>\n",
       "  </thead>\n",
       "  <tbody>\n",
       "    <tr>\n",
       "      <th>0</th>\n",
       "      <td>yes</td>\n",
       "      <td>2</td>\n",
       "      <td>207183253.0</td>\n",
       "    </tr>\n",
       "    <tr>\n",
       "      <th>1</th>\n",
       "      <td>yes</td>\n",
       "      <td>3</td>\n",
       "      <td>212097861.8</td>\n",
       "    </tr>\n",
       "    <tr>\n",
       "      <th>2</th>\n",
       "      <td>yes</td>\n",
       "      <td>4</td>\n",
       "      <td>234926270.8</td>\n",
       "    </tr>\n",
       "    <tr>\n",
       "      <th>3</th>\n",
       "      <td>yes</td>\n",
       "      <td>5</td>\n",
       "      <td>283565643.4</td>\n",
       "    </tr>\n",
       "    <tr>\n",
       "      <th>4</th>\n",
       "      <td>yes</td>\n",
       "      <td>6</td>\n",
       "      <td>329840706.4</td>\n",
       "    </tr>\n",
       "  </tbody>\n",
       "</table>\n",
       "</div>"
      ],
      "text/plain": [
       "  transposed  nthreads       clocks\n",
       "0        yes         2  207183253.0\n",
       "1        yes         3  212097861.8\n",
       "2        yes         4  234926270.8\n",
       "3        yes         5  283565643.4\n",
       "4        yes         6  329840706.4"
      ]
     },
     "execution_count": 71,
     "metadata": {},
     "output_type": "execute_result"
    }
   ],
   "source": [
    "df_block_m = df_block_m.groupby(['transposed', 'nthreads'])['clocks'].mean().reset_index()\n",
    "\n",
    "df_block_m.head()"
   ]
  },
  {
   "cell_type": "code",
   "execution_count": 73,
   "metadata": {},
   "outputs": [
    {
     "data": {
      "image/png": "[encoded data removed]",
      "text/plain": [
       "<Figure size 640x480 with 1 Axes>"
      ]
     },
     "metadata": {},
     "output_type": "display_data"
    }
   ],
   "source": [
    "sns.lineplot(data=df_block_m, x='nthreads', y='clocks', hue='transposed');"
   ]
  },
  {
   "cell_type": "markdown",
   "metadata": {},
   "source": [
    "## Сравнение скоростей блочной и нативной реализаций"
   ]
  },
  {
   "cell_type": "code",
   "execution_count": 84,
   "metadata": {},
   "outputs": [
    {
     "data": {
      "text/html": [
       "<div>\n",
       "<style scoped>\n",
       "    .dataframe tbody tr th:only-of-type {\n",
       "        vertical-align: middle;\n",
       "    }\n",
       "\n",
       "    .dataframe tbody tr th {\n",
       "        vertical-align: top;\n",
       "    }\n",
       "\n",
       "    .dataframe thead th {\n",
       "        text-align: right;\n",
       "    }\n",
       "</style>\n",
       "<table border=\"1\" class=\"dataframe\">\n",
       "  <thead>\n",
       "    <tr style=\"text-align: right;\">\n",
       "      <th></th>\n",
       "      <th>calculator</th>\n",
       "      <th>transposed</th>\n",
       "      <th>N_M_K</th>\n",
       "      <th>bnr_bnc</th>\n",
       "      <th>nthreads</th>\n",
       "      <th>clocks</th>\n",
       "    </tr>\n",
       "  </thead>\n",
       "  <tbody>\n",
       "    <tr>\n",
       "      <th>160</th>\n",
       "      <td>native_m</td>\n",
       "      <td>no</td>\n",
       "      <td>2048-5120-2048</td>\n",
       "      <td>0-0</td>\n",
       "      <td>2</td>\n",
       "      <td>1194233000</td>\n",
       "    </tr>\n",
       "    <tr>\n",
       "      <th>161</th>\n",
       "      <td>native_m</td>\n",
       "      <td>no</td>\n",
       "      <td>2048-5120-2048</td>\n",
       "      <td>0-0</td>\n",
       "      <td>2</td>\n",
       "      <td>1071852105</td>\n",
       "    </tr>\n",
       "    <tr>\n",
       "      <th>162</th>\n",
       "      <td>native_m</td>\n",
       "      <td>no</td>\n",
       "      <td>2048-5120-2048</td>\n",
       "      <td>0-0</td>\n",
       "      <td>2</td>\n",
       "      <td>981622121</td>\n",
       "    </tr>\n",
       "    <tr>\n",
       "      <th>163</th>\n",
       "      <td>native_m</td>\n",
       "      <td>no</td>\n",
       "      <td>2048-5120-2048</td>\n",
       "      <td>0-0</td>\n",
       "      <td>2</td>\n",
       "      <td>976946649</td>\n",
       "    </tr>\n",
       "    <tr>\n",
       "      <th>164</th>\n",
       "      <td>native_m</td>\n",
       "      <td>no</td>\n",
       "      <td>2048-5120-2048</td>\n",
       "      <td>0-0</td>\n",
       "      <td>2</td>\n",
       "      <td>1000173997</td>\n",
       "    </tr>\n",
       "  </tbody>\n",
       "</table>\n",
       "</div>"
      ],
      "text/plain": [
       "    calculator transposed           N_M_K bnr_bnc  nthreads      clocks\n",
       "160   native_m         no  2048-5120-2048     0-0         2  1194233000\n",
       "161   native_m         no  2048-5120-2048     0-0         2  1071852105\n",
       "162   native_m         no  2048-5120-2048     0-0         2   981622121\n",
       "163   native_m         no  2048-5120-2048     0-0         2   976946649\n",
       "164   native_m         no  2048-5120-2048     0-0         2  1000173997"
      ]
     },
     "execution_count": 84,
     "metadata": {},
     "output_type": "execute_result"
    }
   ],
   "source": [
    "df_block_m_native_m = df.loc[(df['calculator'] == 'native_m') | (df['calculator'] == 'block_m')].copy()\n",
    "\n",
    "df_block_m_native_m.head()"
   ]
  },
  {
   "cell_type": "code",
   "execution_count": 85,
   "metadata": {},
   "outputs": [
    {
     "data": {
      "text/html": [
       "<div>\n",
       "<style scoped>\n",
       "    .dataframe tbody tr th:only-of-type {\n",
       "        vertical-align: middle;\n",
       "    }\n",
       "\n",
       "    .dataframe tbody tr th {\n",
       "        vertical-align: top;\n",
       "    }\n",
       "\n",
       "    .dataframe thead th {\n",
       "        text-align: right;\n",
       "    }\n",
       "</style>\n",
       "<table border=\"1\" class=\"dataframe\">\n",
       "  <thead>\n",
       "    <tr style=\"text-align: right;\">\n",
       "      <th></th>\n",
       "      <th>transposed</th>\n",
       "      <th>nthreads</th>\n",
       "      <th>calculator</th>\n",
       "      <th>clocks</th>\n",
       "      <th>hue</th>\n",
       "    </tr>\n",
       "  </thead>\n",
       "  <tbody>\n",
       "    <tr>\n",
       "      <th>0</th>\n",
       "      <td>no</td>\n",
       "      <td>2</td>\n",
       "      <td>native_m</td>\n",
       "      <td>1.044966e+09</td>\n",
       "      <td>native_m_no</td>\n",
       "    </tr>\n",
       "    <tr>\n",
       "      <th>1</th>\n",
       "      <td>no</td>\n",
       "      <td>3</td>\n",
       "      <td>native_m</td>\n",
       "      <td>9.687381e+08</td>\n",
       "      <td>native_m_no</td>\n",
       "    </tr>\n",
       "    <tr>\n",
       "      <th>2</th>\n",
       "      <td>no</td>\n",
       "      <td>4</td>\n",
       "      <td>native_m</td>\n",
       "      <td>9.964105e+08</td>\n",
       "      <td>native_m_no</td>\n",
       "    </tr>\n",
       "    <tr>\n",
       "      <th>3</th>\n",
       "      <td>no</td>\n",
       "      <td>5</td>\n",
       "      <td>native_m</td>\n",
       "      <td>9.941943e+08</td>\n",
       "      <td>native_m_no</td>\n",
       "    </tr>\n",
       "    <tr>\n",
       "      <th>4</th>\n",
       "      <td>no</td>\n",
       "      <td>6</td>\n",
       "      <td>native_m</td>\n",
       "      <td>1.032252e+09</td>\n",
       "      <td>native_m_no</td>\n",
       "    </tr>\n",
       "  </tbody>\n",
       "</table>\n",
       "</div>"
      ],
      "text/plain": [
       "  transposed  nthreads calculator        clocks          hue\n",
       "0         no         2   native_m  1.044966e+09  native_m_no\n",
       "1         no         3   native_m  9.687381e+08  native_m_no\n",
       "2         no         4   native_m  9.964105e+08  native_m_no\n",
       "3         no         5   native_m  9.941943e+08  native_m_no\n",
       "4         no         6   native_m  1.032252e+09  native_m_no"
      ]
     },
     "execution_count": 85,
     "metadata": {},
     "output_type": "execute_result"
    }
   ],
   "source": [
    "df_block_m_native_m = df_block_m_native_m.groupby(['transposed', 'nthreads', 'calculator'])['clocks'].mean().reset_index()\n",
    "df_block_m_native_m['hue'] = df_block_m_native_m['calculator'] + '_' + df_block_m_native_m['transposed']\n",
    "\n",
    "df_block_m_native_m.head()"
   ]
  },
  {
   "cell_type": "code",
   "execution_count": 86,
   "metadata": {},
   "outputs": [
    {
     "data": {
      "image/png": "[encoded data removed]",
      "text/plain": [
       "<Figure size 640x480 with 1 Axes>"
      ]
     },
     "metadata": {},
     "output_type": "display_data"
    }
   ],
   "source": [
    "sns.lineplot(data=df_block_m_native_m, x='nthreads', y='clocks', hue='hue');"
   ]
  },
  {
   "cell_type": "markdown",
   "metadata": {},
   "source": [
    "Ну и снова блочная и нативная реализация почти не отличаются"
   ]
  },
  {
   "cell_type": "markdown",
   "metadata": {},
   "source": [
    "## ~ Выводы"
   ]
  },
  {
   "cell_type": "markdown",
   "metadata": {},
   "source": [
    "Я ожидал, что блочная реализаци будет выигрывать у нативной для НЕТРАНСПОНИРОВАННОГО случая"
   ]
  },
  {
   "cell_type": "markdown",
   "metadata": {},
   "source": [
    "По сути у них только отличаются асимптотики"
   ]
  },
  {
   "cell_type": "markdown",
   "metadata": {},
   "source": []
  }
 ],
 "metadata": {
  "kernelspec": {
   "display_name": "Python 3",
   "language": "python",
   "name": "python3"
  },
  "language_info": {
   "codemirror_mode": {
    "name": "ipython",
    "version": 3
   },
   "file_extension": ".py",
   "mimetype": "text/x-python",
   "name": "python",
   "nbconvert_exporter": "python",
   "pygments_lexer": "ipython3",
   "version": "3.10.9"
  },
  "orig_nbformat": 4,
  "vscode": {
   "interpreter": {
    "hash": "767d51c1340bd893661ea55ea3124f6de3c7a262a8b4abca0554b478b1e2ff90"
   }
  }
 },
 "nbformat": 4,
 "nbformat_minor": 2
}
